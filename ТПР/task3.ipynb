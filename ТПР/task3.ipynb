{
 "cells": [
  {
   "cell_type": "markdown",
   "id": "f8fc4d05",
   "metadata": {},
   "source": [
    "\n",
    "# Иванов Роман\n",
    "# 98 Вариант\n",
    "# Группа №9372\n",
    "# Задача 3"
   ]
  },
  {
   "cell_type": "markdown",
   "id": "09796b27",
   "metadata": {},
   "source": [
    "\n",
    "На основе экспертных данных построена вероятностная модель диагностики определенной группы заболеваний (З1, З2, З3), эпидемиологическая обстановка по которым в указанное время приведена в табл. 2. Данные заболевания могут вызывать определенные симптомы (С1, С2, С3) с различными вероятностями (см. табл. 3), причем возникновение симптома при отсутствии заболевания маловероятно (0.001). Известно также, что у человека в определенный момент времени не может присутствовать более одного заболевания из этой группы.\n",
    "Существует диагностическая процедура, которая позволяет выявить заболевание З3. Стоимость процедуры — 700 руб., а ее вероятностные характеристики приведены в табл. 4.\n",
    "Известно два (взаимоисключающих) вида терапии Т1 и Т2 стоимостью 1200 руб. и 3400\n",
    "руб., эффективность которых применительно к различным заболеваниям приведена в табл. 5.\n",
    "Составьте диаграмму влияния и дерево решений для принятия решения о назначении анализа и выборе варианта терапии."
   ]
  },
  {
   "cell_type": "markdown",
   "id": "3d0b2594",
   "metadata": {},
   "source": [
    "![title](2.png)"
   ]
  },
  {
   "cell_type": "markdown",
   "id": "070f1d5e",
   "metadata": {},
   "source": [
    "![title](3.png)"
   ]
  },
  {
   "cell_type": "markdown",
   "id": "2b8b6d5a",
   "metadata": {},
   "source": [
    "![title](4.png)"
   ]
  },
  {
   "cell_type": "markdown",
   "id": "c6889f72",
   "metadata": {},
   "source": [
    "![title](5.png)"
   ]
  },
  {
   "cell_type": "markdown",
   "id": "280eb056",
   "metadata": {},
   "source": [
    "1. Определите стоимость информации о наличии у пациента каждого из симптомов.\n",
    "2. При условии, что у пациента наблюдаются только симптом(ы) C1 и C2, определите:\n",
    "\n",
    "(a) Вероятности того, что у пациента присутствует каждое из заболеваний. Какое является наиболее вероятным?\n",
    "\n",
    "(b) Оптимальные действия по диагностике и лечению. Стоит ли проводить диагностическую процедуру?\n",
    "\n",
    "(c) Определите «разумную» цену для проведения диагностической процедуры в данном случае."
   ]
  },
  {
   "cell_type": "code",
   "execution_count": 174,
   "id": "be6f098a",
   "metadata": {},
   "outputs": [],
   "source": [
    "import os\n",
    "\n",
    "%matplotlib inline\n",
    "from pylab import *\n",
    "import matplotlib.pyplot as plt"
   ]
  },
  {
   "cell_type": "code",
   "execution_count": 175,
   "id": "28a5c183",
   "metadata": {},
   "outputs": [],
   "source": [
    "import pyAgrum as gum\n",
    "import pyAgrum.lib.notebook as gnb"
   ]
  },
  {
   "cell_type": "markdown",
   "id": "7e7e3b3f",
   "metadata": {},
   "source": [
    "# *Создание байесовской сети*"
   ]
  },
  {
   "cell_type": "code",
   "execution_count": 176,
   "id": "b0379a56",
   "metadata": {},
   "outputs": [
    {
     "name": "stdout",
     "output_type": "stream",
     "text": [
      "BN{nodes: 0, arcs: 0, domainSize: 1, dim: 0}\n"
     ]
    }
   ],
   "source": [
    "medicine_bn = gum.BayesNet()\n",
    "print(medicine_bn)"
   ]
  },
  {
   "cell_type": "markdown",
   "id": "be52d98e",
   "metadata": {},
   "source": [
    "# *Переменные (и вероятностные узлы)*"
   ]
  },
  {
   "cell_type": "markdown",
   "id": "27408c6e",
   "metadata": {},
   "source": [
    "Переменная Disease (Болезнь) может принимать одно из четырех значений 'Нет', 'З1', 'З2' и 'З3'"
   ]
  },
  {
   "cell_type": "code",
   "execution_count": 177,
   "id": "3b25f462",
   "metadata": {},
   "outputs": [
    {
     "data": {
      "text/plain": [
       "(pyAgrum.LabelizedVariable@00000158D2BDB3B0) Disease:Labelized({No|Disease1|Disease2|Disease3})"
      ]
     },
     "execution_count": 177,
     "metadata": {},
     "output_type": "execute_result"
    }
   ],
   "source": [
    "# Создадим переменную \n",
    "# Первый параметр - имя переменной, второй - опциональный комментарий, а третий - количство значений\n",
    "va = gum.LabelizedVariable('Disease', 'Is the patient sick?', 4)\n",
    "va.changeLabel(0, 'No')\n",
    "va.changeLabel(1, 'Disease1')\n",
    "va.changeLabel(2, 'Disease2')\n",
    "va.changeLabel(3, 'Disease3')\n",
    "va"
   ]
  },
  {
   "cell_type": "code",
   "execution_count": 178,
   "id": "1d930d79",
   "metadata": {},
   "outputs": [
    {
     "data": {
      "text/plain": [
       "0"
      ]
     },
     "execution_count": 178,
     "metadata": {},
     "output_type": "execute_result"
    }
   ],
   "source": [
    "medicine_bn.add(va)"
   ]
  },
  {
   "cell_type": "markdown",
   "id": "0cd24e39",
   "metadata": {},
   "source": [
    "Аналогично создаются и лругие переменные"
   ]
  },
  {
   "cell_type": "code",
   "execution_count": 179,
   "id": "5aa20dac",
   "metadata": {},
   "outputs": [
    {
     "data": {
      "text/plain": [
       "4"
      ]
     },
     "execution_count": 179,
     "metadata": {},
     "output_type": "execute_result"
    }
   ],
   "source": [
    "# Симптом 1\n",
    "medicine_bn.add(gum.LabelizedVariable('Symptom1', 'Does the patient have the symptom 1?', 2))\n",
    "# Симптом 2\n",
    "medicine_bn.add(gum.LabelizedVariable('Symptom2', 'Does the patient have the symptom 2?', 2))\n",
    "# Симптом 3\n",
    "medicine_bn.add(gum.LabelizedVariable('Symptom3', 'Does the patient have the symptom 3?', 2))\n",
    "# Тест\n",
    "medicine_bn.add(gum.LabelizedVariable('Test', 'Diagnostic test result', 2))\n"
   ]
  },
  {
   "cell_type": "markdown",
   "id": "903104a4",
   "metadata": {},
   "source": [
    "## Дуги\n",
    "\n",
    "Необходимо связать узлы, соответствующие созданным переменным в струкуру, отражающую их взаимосвязь:"
   ]
  },
  {
   "cell_type": "code",
   "execution_count": 180,
   "id": "0311224f",
   "metadata": {},
   "outputs": [],
   "source": [
    "# Наличие болезни влияет на проявление симптомов и на результат диагностики:\n",
    "medicine_bn.addArc(medicine_bn.idFromName('Disease'), medicine_bn.idFromName('Symptom1'))\n",
    "medicine_bn.addArc(medicine_bn.idFromName('Disease'), medicine_bn.idFromName('Symptom2'))\n",
    "medicine_bn.addArc(medicine_bn.idFromName('Disease'), medicine_bn.idFromName('Symptom3'))\n",
    "medicine_bn.addArc(medicine_bn.idFromName('Disease'), medicine_bn.idFromName('Test'))"
   ]
  },
  {
   "cell_type": "code",
   "execution_count": 117,
   "id": "c8ac2cd3",
   "metadata": {},
   "outputs": [
    {
     "ename": "FileNotFoundError",
     "evalue": "[WinError 2] \"dot\" not found in path.",
     "output_type": "error",
     "traceback": [
      "\u001b[1;31m---------------------------------------------------------------------------\u001b[0m",
      "\u001b[1;31mFileNotFoundError\u001b[0m                         Traceback (most recent call last)",
      "\u001b[1;32m~\\anaconda3\\lib\\site-packages\\pydot.py\u001b[0m in \u001b[0;36mcreate\u001b[1;34m(self, prog, format, encoding)\u001b[0m\n\u001b[0;32m   1922\u001b[0m         \u001b[1;32mtry\u001b[0m\u001b[1;33m:\u001b[0m\u001b[1;33m\u001b[0m\u001b[1;33m\u001b[0m\u001b[0m\n\u001b[1;32m-> 1923\u001b[1;33m             stdout_data, stderr_data, process = call_graphviz(\n\u001b[0m\u001b[0;32m   1924\u001b[0m                 \u001b[0mprogram\u001b[0m\u001b[1;33m=\u001b[0m\u001b[0mprog\u001b[0m\u001b[1;33m,\u001b[0m\u001b[1;33m\u001b[0m\u001b[1;33m\u001b[0m\u001b[0m\n",
      "\u001b[1;32m~\\anaconda3\\lib\\site-packages\\pydot.py\u001b[0m in \u001b[0;36mcall_graphviz\u001b[1;34m(program, arguments, working_dir, **kwargs)\u001b[0m\n\u001b[0;32m    131\u001b[0m \u001b[1;33m\u001b[0m\u001b[0m\n\u001b[1;32m--> 132\u001b[1;33m     process = subprocess.Popen(\n\u001b[0m\u001b[0;32m    133\u001b[0m         \u001b[0mprogram_with_args\u001b[0m\u001b[1;33m,\u001b[0m\u001b[1;33m\u001b[0m\u001b[1;33m\u001b[0m\u001b[0m\n",
      "\u001b[1;32m~\\anaconda3\\lib\\subprocess.py\u001b[0m in \u001b[0;36m__init__\u001b[1;34m(self, args, bufsize, executable, stdin, stdout, stderr, preexec_fn, close_fds, shell, cwd, env, universal_newlines, startupinfo, creationflags, restore_signals, start_new_session, pass_fds, encoding, errors, text)\u001b[0m\n\u001b[0;32m    857\u001b[0m \u001b[1;33m\u001b[0m\u001b[0m\n\u001b[1;32m--> 858\u001b[1;33m             self._execute_child(args, executable, preexec_fn, close_fds,\n\u001b[0m\u001b[0;32m    859\u001b[0m                                 \u001b[0mpass_fds\u001b[0m\u001b[1;33m,\u001b[0m \u001b[0mcwd\u001b[0m\u001b[1;33m,\u001b[0m \u001b[0menv\u001b[0m\u001b[1;33m,\u001b[0m\u001b[1;33m\u001b[0m\u001b[1;33m\u001b[0m\u001b[0m\n",
      "\u001b[1;32m~\\anaconda3\\lib\\subprocess.py\u001b[0m in \u001b[0;36m_execute_child\u001b[1;34m(self, args, executable, preexec_fn, close_fds, pass_fds, cwd, env, startupinfo, creationflags, shell, p2cread, p2cwrite, c2pread, c2pwrite, errread, errwrite, unused_restore_signals, unused_start_new_session)\u001b[0m\n\u001b[0;32m   1310\u001b[0m             \u001b[1;32mtry\u001b[0m\u001b[1;33m:\u001b[0m\u001b[1;33m\u001b[0m\u001b[1;33m\u001b[0m\u001b[0m\n\u001b[1;32m-> 1311\u001b[1;33m                 hp, ht, pid, tid = _winapi.CreateProcess(executable, args,\n\u001b[0m\u001b[0;32m   1312\u001b[0m                                          \u001b[1;31m# no special security\u001b[0m\u001b[1;33m\u001b[0m\u001b[1;33m\u001b[0m\u001b[1;33m\u001b[0m\u001b[0m\n",
      "\u001b[1;31mFileNotFoundError\u001b[0m: [WinError 2] Не удается найти указанный файл",
      "\nDuring handling of the above exception, another exception occurred:\n",
      "\u001b[1;31mFileNotFoundError\u001b[0m                         Traceback (most recent call last)",
      "\u001b[1;32m~\\anaconda3\\lib\\site-packages\\IPython\\core\\formatters.py\u001b[0m in \u001b[0;36m__call__\u001b[1;34m(self, obj)\u001b[0m\n\u001b[0;32m    343\u001b[0m             \u001b[0mmethod\u001b[0m \u001b[1;33m=\u001b[0m \u001b[0mget_real_method\u001b[0m\u001b[1;33m(\u001b[0m\u001b[0mobj\u001b[0m\u001b[1;33m,\u001b[0m \u001b[0mself\u001b[0m\u001b[1;33m.\u001b[0m\u001b[0mprint_method\u001b[0m\u001b[1;33m)\u001b[0m\u001b[1;33m\u001b[0m\u001b[1;33m\u001b[0m\u001b[0m\n\u001b[0;32m    344\u001b[0m             \u001b[1;32mif\u001b[0m \u001b[0mmethod\u001b[0m \u001b[1;32mis\u001b[0m \u001b[1;32mnot\u001b[0m \u001b[1;32mNone\u001b[0m\u001b[1;33m:\u001b[0m\u001b[1;33m\u001b[0m\u001b[1;33m\u001b[0m\u001b[0m\n\u001b[1;32m--> 345\u001b[1;33m                 \u001b[1;32mreturn\u001b[0m \u001b[0mmethod\u001b[0m\u001b[1;33m(\u001b[0m\u001b[1;33m)\u001b[0m\u001b[1;33m\u001b[0m\u001b[1;33m\u001b[0m\u001b[0m\n\u001b[0m\u001b[0;32m    346\u001b[0m             \u001b[1;32mreturn\u001b[0m \u001b[1;32mNone\u001b[0m\u001b[1;33m\u001b[0m\u001b[1;33m\u001b[0m\u001b[0m\n\u001b[0;32m    347\u001b[0m         \u001b[1;32melse\u001b[0m\u001b[1;33m:\u001b[0m\u001b[1;33m\u001b[0m\u001b[1;33m\u001b[0m\u001b[0m\n",
      "\u001b[1;32m~\\anaconda3\\lib\\site-packages\\pyAgrum\\lib\\notebook.py\u001b[0m in \u001b[0;36m<lambda>\u001b[1;34m(self)\u001b[0m\n\u001b[0;32m   1471\u001b[0m \u001b[1;33m\u001b[0m\u001b[0m\n\u001b[0;32m   1472\u001b[0m   \u001b[1;31m# adding _repr_html_ to some pyAgrum classes !\u001b[0m\u001b[1;33m\u001b[0m\u001b[1;33m\u001b[0m\u001b[1;33m\u001b[0m\u001b[0m\n\u001b[1;32m-> 1473\u001b[1;33m   \u001b[0mgum\u001b[0m\u001b[1;33m.\u001b[0m\u001b[0mBayesNet\u001b[0m\u001b[1;33m.\u001b[0m\u001b[0m_repr_html_\u001b[0m \u001b[1;33m=\u001b[0m \u001b[1;32mlambda\u001b[0m \u001b[0mself\u001b[0m\u001b[1;33m:\u001b[0m \u001b[0mgetBN\u001b[0m\u001b[1;33m(\u001b[0m\u001b[0mself\u001b[0m\u001b[1;33m)\u001b[0m\u001b[1;33m\u001b[0m\u001b[1;33m\u001b[0m\u001b[0m\n\u001b[0m\u001b[0;32m   1474\u001b[0m   \u001b[0mgum\u001b[0m\u001b[1;33m.\u001b[0m\u001b[0mBayesNetFragment\u001b[0m\u001b[1;33m.\u001b[0m\u001b[0m_repr_html_\u001b[0m \u001b[1;33m=\u001b[0m \u001b[1;32mlambda\u001b[0m \u001b[0mself\u001b[0m\u001b[1;33m:\u001b[0m \u001b[0mgetBN\u001b[0m\u001b[1;33m(\u001b[0m\u001b[0mself\u001b[0m\u001b[1;33m)\u001b[0m\u001b[1;33m\u001b[0m\u001b[1;33m\u001b[0m\u001b[0m\n\u001b[0;32m   1475\u001b[0m   \u001b[0mgum\u001b[0m\u001b[1;33m.\u001b[0m\u001b[0mMarkovNet\u001b[0m\u001b[1;33m.\u001b[0m\u001b[0m_repr_html_\u001b[0m \u001b[1;33m=\u001b[0m \u001b[1;32mlambda\u001b[0m \u001b[0mself\u001b[0m\u001b[1;33m:\u001b[0m \u001b[0mgetMN\u001b[0m\u001b[1;33m(\u001b[0m\u001b[0mself\u001b[0m\u001b[1;33m)\u001b[0m\u001b[1;33m\u001b[0m\u001b[1;33m\u001b[0m\u001b[0m\n",
      "\u001b[1;32m~\\anaconda3\\lib\\site-packages\\pyAgrum\\lib\\notebook.py\u001b[0m in \u001b[0;36mgetBN\u001b[1;34m(bn, size, nodeColor, arcWidth, arcColor, cmap, cmapArc)\u001b[0m\n\u001b[0;32m    867\u001b[0m     \u001b[0mcmapArc\u001b[0m \u001b[1;33m=\u001b[0m \u001b[0mcmap\u001b[0m\u001b[1;33m\u001b[0m\u001b[1;33m\u001b[0m\u001b[0m\n\u001b[0;32m    868\u001b[0m \u001b[1;33m\u001b[0m\u001b[0m\n\u001b[1;32m--> 869\u001b[1;33m   \u001b[1;32mreturn\u001b[0m \u001b[0mgetGraph\u001b[0m\u001b[1;33m(\u001b[0m\u001b[0mBN2dot\u001b[0m\u001b[1;33m(\u001b[0m\u001b[0mbn\u001b[0m\u001b[1;33m,\u001b[0m \u001b[0msize\u001b[0m\u001b[1;33m,\u001b[0m \u001b[0mnodeColor\u001b[0m\u001b[1;33m,\u001b[0m \u001b[0marcWidth\u001b[0m\u001b[1;33m,\u001b[0m \u001b[0marcColor\u001b[0m\u001b[1;33m,\u001b[0m \u001b[0mcmap\u001b[0m\u001b[1;33m,\u001b[0m \u001b[0mcmapArc\u001b[0m\u001b[1;33m)\u001b[0m\u001b[1;33m,\u001b[0m \u001b[0msize\u001b[0m\u001b[1;33m)\u001b[0m\u001b[1;33m\u001b[0m\u001b[1;33m\u001b[0m\u001b[0m\n\u001b[0m\u001b[0;32m    870\u001b[0m \u001b[1;33m\u001b[0m\u001b[0m\n\u001b[0;32m    871\u001b[0m \u001b[1;33m\u001b[0m\u001b[0m\n",
      "\u001b[1;32m~\\anaconda3\\lib\\site-packages\\pyAgrum\\lib\\notebook.py\u001b[0m in \u001b[0;36mgetGraph\u001b[1;34m(gr, size)\u001b[0m\n\u001b[0;32m    316\u001b[0m   \u001b[0mgr\u001b[0m\u001b[1;33m.\u001b[0m\u001b[0mdel_node\u001b[0m\u001b[1;33m(\u001b[0m\u001b[1;34m'\"\\\\n\\\\n\"'\u001b[0m\u001b[1;33m)\u001b[0m\u001b[1;33m\u001b[0m\u001b[1;33m\u001b[0m\u001b[0m\n\u001b[0;32m    317\u001b[0m \u001b[1;33m\u001b[0m\u001b[0m\n\u001b[1;32m--> 318\u001b[1;33m   \u001b[1;32mreturn\u001b[0m \u001b[0m_reprGraph\u001b[0m\u001b[1;33m(\u001b[0m\u001b[0mgr\u001b[0m\u001b[1;33m,\u001b[0m \u001b[0msize\u001b[0m\u001b[1;33m,\u001b[0m \u001b[0masString\u001b[0m\u001b[1;33m=\u001b[0m\u001b[1;32mTrue\u001b[0m\u001b[1;33m)\u001b[0m\u001b[1;33m\u001b[0m\u001b[1;33m\u001b[0m\u001b[0m\n\u001b[0m\u001b[0;32m    319\u001b[0m \u001b[1;33m\u001b[0m\u001b[0m\n\u001b[0;32m    320\u001b[0m \u001b[1;33m\u001b[0m\u001b[0m\n",
      "\u001b[1;32m~\\anaconda3\\lib\\site-packages\\pyAgrum\\lib\\notebook.py\u001b[0m in \u001b[0;36m_reprGraph\u001b[1;34m(gr, size, asString, format)\u001b[0m\n\u001b[0;32m    264\u001b[0m \u001b[1;33m\u001b[0m\u001b[0m\n\u001b[0;32m    265\u001b[0m   \u001b[1;32mif\u001b[0m \u001b[0mformat\u001b[0m \u001b[1;33m==\u001b[0m \u001b[1;34m\"svg\"\u001b[0m\u001b[1;33m:\u001b[0m\u001b[1;33m\u001b[0m\u001b[1;33m\u001b[0m\u001b[0m\n\u001b[1;32m--> 266\u001b[1;33m     \u001b[0mgsvg\u001b[0m \u001b[1;33m=\u001b[0m \u001b[0mIPython\u001b[0m\u001b[1;33m.\u001b[0m\u001b[0mdisplay\u001b[0m\u001b[1;33m.\u001b[0m\u001b[0mSVG\u001b[0m\u001b[1;33m(\u001b[0m\u001b[0mprepareLinksForSVG\u001b[0m\u001b[1;33m(\u001b[0m\u001b[0mgr\u001b[0m\u001b[1;33m.\u001b[0m\u001b[0mcreate_svg\u001b[0m\u001b[1;33m(\u001b[0m\u001b[0mencoding\u001b[0m\u001b[1;33m=\u001b[0m\u001b[1;34m\"utf-8\"\u001b[0m\u001b[1;33m)\u001b[0m\u001b[1;33m.\u001b[0m\u001b[0mdecode\u001b[0m\u001b[1;33m(\u001b[0m\u001b[1;34m'utf-8'\u001b[0m\u001b[1;33m)\u001b[0m\u001b[1;33m)\u001b[0m\u001b[1;33m)\u001b[0m\u001b[1;33m\u001b[0m\u001b[1;33m\u001b[0m\u001b[0m\n\u001b[0m\u001b[0;32m    267\u001b[0m     \u001b[1;32mif\u001b[0m \u001b[0masString\u001b[0m\u001b[1;33m:\u001b[0m\u001b[1;33m\u001b[0m\u001b[1;33m\u001b[0m\u001b[0m\n\u001b[0;32m    268\u001b[0m       \u001b[1;32mreturn\u001b[0m \u001b[0mgsvg\u001b[0m\u001b[1;33m.\u001b[0m\u001b[0mdata\u001b[0m\u001b[1;33m\u001b[0m\u001b[1;33m\u001b[0m\u001b[0m\n",
      "\u001b[1;32m~\\anaconda3\\lib\\site-packages\\pydot.py\u001b[0m in \u001b[0;36mnew_method\u001b[1;34m(f, prog, encoding)\u001b[0m\n\u001b[0;32m   1731\u001b[0m                     encoding=None):\n\u001b[0;32m   1732\u001b[0m                 \u001b[1;34m\"\"\"Refer to docstring of method `create`.\"\"\"\u001b[0m\u001b[1;33m\u001b[0m\u001b[1;33m\u001b[0m\u001b[0m\n\u001b[1;32m-> 1733\u001b[1;33m                 return self.create(\n\u001b[0m\u001b[0;32m   1734\u001b[0m                     format=f, prog=prog, encoding=encoding)\n\u001b[0;32m   1735\u001b[0m             \u001b[0mname\u001b[0m \u001b[1;33m=\u001b[0m \u001b[1;34m'create_{fmt}'\u001b[0m\u001b[1;33m.\u001b[0m\u001b[0mformat\u001b[0m\u001b[1;33m(\u001b[0m\u001b[0mfmt\u001b[0m\u001b[1;33m=\u001b[0m\u001b[0mfrmt\u001b[0m\u001b[1;33m)\u001b[0m\u001b[1;33m\u001b[0m\u001b[1;33m\u001b[0m\u001b[0m\n",
      "\u001b[1;32m~\\anaconda3\\lib\\site-packages\\pydot.py\u001b[0m in \u001b[0;36mcreate\u001b[1;34m(self, prog, format, encoding)\u001b[0m\n\u001b[0;32m   1931\u001b[0m                 args[1] = '\"{prog}\" not found in path.'.format(\n\u001b[0;32m   1932\u001b[0m                     prog=prog)\n\u001b[1;32m-> 1933\u001b[1;33m                 \u001b[1;32mraise\u001b[0m \u001b[0mOSError\u001b[0m\u001b[1;33m(\u001b[0m\u001b[1;33m*\u001b[0m\u001b[0margs\u001b[0m\u001b[1;33m)\u001b[0m\u001b[1;33m\u001b[0m\u001b[1;33m\u001b[0m\u001b[0m\n\u001b[0m\u001b[0;32m   1934\u001b[0m             \u001b[1;32melse\u001b[0m\u001b[1;33m:\u001b[0m\u001b[1;33m\u001b[0m\u001b[1;33m\u001b[0m\u001b[0m\n\u001b[0;32m   1935\u001b[0m                 \u001b[1;32mraise\u001b[0m\u001b[1;33m\u001b[0m\u001b[1;33m\u001b[0m\u001b[0m\n",
      "\u001b[1;31mFileNotFoundError\u001b[0m: [WinError 2] \"dot\" not found in path."
     ]
    },
    {
     "data": {
      "text/plain": [
       "(pyAgrum.BayesNet<double>@00000158D282CB40) BN{nodes: 5, arcs: 4, domainSize: 64, dim: 36}"
      ]
     },
     "execution_count": 117,
     "metadata": {},
     "output_type": "execute_result"
    }
   ],
   "source": [
    "medicine_bn"
   ]
  },
  {
   "cell_type": "markdown",
   "id": "127d0878",
   "metadata": {},
   "source": [
    "## Таблицы условных вероятностей\n"
   ]
  },
  {
   "cell_type": "code",
   "execution_count": 118,
   "id": "3797c6f7",
   "metadata": {},
   "outputs": [
    {
     "data": {
      "text/html": [
       "<table style=\"border:1px solid black;\">\n",
       "<tr style='border:1px solid black;color:black;background-color:#808080'>\n",
       "      <th colspan='4'><center>Disease</center></th></tr>\n",
       "<tr><th style='border:1px solid black;border-bottom-style: double;color:black;background-color:#BBBBBB'>\n",
       "      <center>No</center></th><th style='border:1px solid black;border-bottom-style: double;color:black;background-color:#BBBBBB'>\n",
       "      <center>Disease1</center></th><th style='border:1px solid black;border-bottom-style: double;color:black;background-color:#BBBBBB'>\n",
       "      <center>Disease2</center></th><th style='border:1px solid black;border-bottom-style: double;color:black;background-color:#BBBBBB'>\n",
       "      <center>Disease3</center></th></tr>\n",
       "<tr><td style='color:black;background-color:#82fb64;text-align:right;'>0.9720</td><td style='color:black;background-color:#fe7f64;text-align:right;'>0.0050</td><td style='color:black;background-color:#fc8164;text-align:right;'>0.0200</td><td style='color:black;background-color:#fe7f64;text-align:right;'>0.0030</td></tr>\n",
       "</table>"
      ],
      "text/plain": [
       "(pyAgrum.Potential<double>@00000158D2B833F0) \n",
       "  Disease                              |\n",
       "No       |Disease1 |Disease2 |Disease3 |\n",
       "---------|---------|---------|---------|\n",
       " 0.9720  | 0.0050  | 0.0200  | 0.0030  |"
      ]
     },
     "execution_count": 118,
     "metadata": {},
     "output_type": "execute_result"
    }
   ],
   "source": [
    "medicine_bn.cpt(medicine_bn.idFromName('Disease')).fillWith([1-0.005-0.02-0.003, 0.005, 0.02, 0.003])\n",
    "medicine_bn.cpt(medicine_bn.idFromName('Disease'))"
   ]
  },
  {
   "cell_type": "markdown",
   "id": "0e82441f",
   "metadata": {},
   "source": [
    "Узнаем, в каком порядке необходимо вписывать переменные"
   ]
  },
  {
   "cell_type": "code",
   "execution_count": 119,
   "id": "12855986",
   "metadata": {},
   "outputs": [
    {
     "data": {
      "text/plain": [
       "['Disease', 'Symptom1']"
      ]
     },
     "execution_count": 119,
     "metadata": {},
     "output_type": "execute_result"
    }
   ],
   "source": [
    "medicine_bn.cpt(medicine_bn.idFromName('Symptom1')).var_names"
   ]
  },
  {
   "cell_type": "code",
   "execution_count": 120,
   "id": "97f354be",
   "metadata": {},
   "outputs": [],
   "source": [
    "symptom1 = medicine_bn.idFromName('Symptom1')\n",
    "symptom2 = medicine_bn.idFromName('Symptom2')\n",
    "symptom3 = medicine_bn.idFromName('Symptom3')\n",
    "\n",
    "medicine_bn.cpt(symptom1)[{'Disease': 'No'}] = [0.999, 0.001]   # два значения: для Symptom1=0 и Symptom1=1 соответственно\n",
    "medicine_bn.cpt(symptom1)[{'Disease': 'Disease1'}] = [0.1, 0.9]\n",
    "medicine_bn.cpt(symptom1)[{'Disease': 'Disease2'}] = [0.2, 0.8]\n",
    "medicine_bn.cpt(symptom1)[{'Disease': 'Disease3'}] = [0.5, 0.5]\n",
    "\n",
    "\n",
    "medicine_bn.cpt(symptom2)[{'Disease': 'No'}] = [0.999, 0.001]    # два значения: для Symptom2=0 и Symptom2=1 соответственно\n",
    "medicine_bn.cpt(symptom2)[{'Disease': 'Disease1'}] = [0.4, 0.6]\n",
    "medicine_bn.cpt(symptom2)[{'Disease': 'Disease2'}] = [0.2, 0.8]\n",
    "medicine_bn.cpt(symptom2)[{'Disease': 'Disease3'}] = [0.2, 0.8]\n",
    "\n",
    "\n",
    "medicine_bn.cpt(symptom3)[{'Disease': 'No'}] = [0.999, 0.001]    # два значения: для Symptom2=0 и Symptom2=1 соответственно\n",
    "medicine_bn.cpt(symptom3)[{'Disease': 'Disease1'}] = [0.5, 0.5]\n",
    "medicine_bn.cpt(symptom3)[{'Disease': 'Disease2'}] = [0.4, 0.6]\n",
    "medicine_bn.cpt(symptom3)[{'Disease': 'Disease3'}] = [0.2, 0.8]\n"
   ]
  },
  {
   "cell_type": "code",
   "execution_count": 121,
   "id": "0384da8d",
   "metadata": {},
   "outputs": [
    {
     "data": {
      "text/html": [
       "<table style=\"border:1px solid black;\">\n",
       "<tr><th colspan='1'></th>\n",
       "      <th colspan='2' style='border:1px solid black;color:black;background-color:#808080;'><center>Symptom1</center>\n",
       "      </th></tr>\n",
       "<tr><th style='border:1px solid black;color:black;background-color:#808080'><center>Disease</center></th><th style='border:1px solid black;border-bottom-style: double;color:black;background-color:#BBBBBB'>\n",
       "      <center>0</center></th><th style='border:1px solid black;border-bottom-style: double;color:black;background-color:#BBBBBB'>\n",
       "      <center>1</center></th></tr>\n",
       "<tr><th style='border:1px solid black;color:black;background-color:#BBBBBB'><center>No</center></th><td style='color:black;background-color:#7ffe64;text-align:right;'>0.9990</td><td style='color:black;background-color:#fe7f64;text-align:right;'>0.0010</td></tr>\n",
       "<tr><th style='border:1px solid black;color:black;background-color:#BBBBBB'><center>Disease1</center></th><td style='color:black;background-color:#f28b64;text-align:right;'>0.1000</td><td style='color:black;background-color:#8bf264;text-align:right;'>0.9000</td></tr>\n",
       "<tr><th style='border:1px solid black;color:black;background-color:#BBBBBB'><center>Disease2</center></th><td style='color:black;background-color:#e59864;text-align:right;'>0.2000</td><td style='color:black;background-color:#98e564;text-align:right;'>0.8000</td></tr>\n",
       "<tr><th style='border:1px solid black;color:black;background-color:#BBBBBB'><center>Disease3</center></th><td style='color:black;background-color:#bfbf64;text-align:right;'>0.5000</td><td style='color:black;background-color:#bfbf64;text-align:right;'>0.5000</td></tr>\n",
       "</table>"
      ],
      "text/plain": [
       "(pyAgrum.Potential<double>@00000158D2B83030) \n",
       "      ||  Symptom1         |\n",
       "Diseas||0        |1        |\n",
       "------||---------|---------|\n",
       "No    || 0.9990  | 0.0010  |\n",
       "Diseas|| 0.1000  | 0.9000  |\n",
       "Diseas|| 0.2000  | 0.8000  |\n",
       "Diseas|| 0.5000  | 0.5000  |"
      ]
     },
     "execution_count": 121,
     "metadata": {},
     "output_type": "execute_result"
    }
   ],
   "source": [
    "medicine_bn.cpt(symptom1)"
   ]
  },
  {
   "cell_type": "code",
   "execution_count": 122,
   "id": "fbf41d46",
   "metadata": {},
   "outputs": [
    {
     "data": {
      "text/html": [
       "<table style=\"border:1px solid black;\">\n",
       "<tr><th colspan='1'></th>\n",
       "      <th colspan='2' style='border:1px solid black;color:black;background-color:#808080;'><center>Symptom2</center>\n",
       "      </th></tr>\n",
       "<tr><th style='border:1px solid black;color:black;background-color:#808080'><center>Disease</center></th><th style='border:1px solid black;border-bottom-style: double;color:black;background-color:#BBBBBB'>\n",
       "      <center>0</center></th><th style='border:1px solid black;border-bottom-style: double;color:black;background-color:#BBBBBB'>\n",
       "      <center>1</center></th></tr>\n",
       "<tr><th style='border:1px solid black;color:black;background-color:#BBBBBB'><center>No</center></th><td style='color:black;background-color:#7ffe64;text-align:right;'>0.9990</td><td style='color:black;background-color:#fe7f64;text-align:right;'>0.0010</td></tr>\n",
       "<tr><th style='border:1px solid black;color:black;background-color:#BBBBBB'><center>Disease1</center></th><td style='color:black;background-color:#cbb264;text-align:right;'>0.4000</td><td style='color:black;background-color:#b2cb64;text-align:right;'>0.6000</td></tr>\n",
       "<tr><th style='border:1px solid black;color:black;background-color:#BBBBBB'><center>Disease2</center></th><td style='color:black;background-color:#e59864;text-align:right;'>0.2000</td><td style='color:black;background-color:#98e564;text-align:right;'>0.8000</td></tr>\n",
       "<tr><th style='border:1px solid black;color:black;background-color:#BBBBBB'><center>Disease3</center></th><td style='color:black;background-color:#e59864;text-align:right;'>0.2000</td><td style='color:black;background-color:#98e564;text-align:right;'>0.8000</td></tr>\n",
       "</table>"
      ],
      "text/plain": [
       "(pyAgrum.Potential<double>@00000158D2B82F30) \n",
       "      ||  Symptom2         |\n",
       "Diseas||0        |1        |\n",
       "------||---------|---------|\n",
       "No    || 0.9990  | 0.0010  |\n",
       "Diseas|| 0.4000  | 0.6000  |\n",
       "Diseas|| 0.2000  | 0.8000  |\n",
       "Diseas|| 0.2000  | 0.8000  |"
      ]
     },
     "execution_count": 122,
     "metadata": {},
     "output_type": "execute_result"
    }
   ],
   "source": [
    "medicine_bn.cpt(symptom2)"
   ]
  },
  {
   "cell_type": "code",
   "execution_count": 123,
   "id": "ebc99cc2",
   "metadata": {},
   "outputs": [
    {
     "data": {
      "text/html": [
       "<table style=\"border:1px solid black;\">\n",
       "<tr><th colspan='1'></th>\n",
       "      <th colspan='2' style='border:1px solid black;color:black;background-color:#808080;'><center>Symptom3</center>\n",
       "      </th></tr>\n",
       "<tr><th style='border:1px solid black;color:black;background-color:#808080'><center>Disease</center></th><th style='border:1px solid black;border-bottom-style: double;color:black;background-color:#BBBBBB'>\n",
       "      <center>0</center></th><th style='border:1px solid black;border-bottom-style: double;color:black;background-color:#BBBBBB'>\n",
       "      <center>1</center></th></tr>\n",
       "<tr><th style='border:1px solid black;color:black;background-color:#BBBBBB'><center>No</center></th><td style='color:black;background-color:#7ffe64;text-align:right;'>0.9990</td><td style='color:black;background-color:#fe7f64;text-align:right;'>0.0010</td></tr>\n",
       "<tr><th style='border:1px solid black;color:black;background-color:#BBBBBB'><center>Disease1</center></th><td style='color:black;background-color:#bfbf64;text-align:right;'>0.5000</td><td style='color:black;background-color:#bfbf64;text-align:right;'>0.5000</td></tr>\n",
       "<tr><th style='border:1px solid black;color:black;background-color:#BBBBBB'><center>Disease2</center></th><td style='color:black;background-color:#cbb264;text-align:right;'>0.4000</td><td style='color:black;background-color:#b2cb64;text-align:right;'>0.6000</td></tr>\n",
       "<tr><th style='border:1px solid black;color:black;background-color:#BBBBBB'><center>Disease3</center></th><td style='color:black;background-color:#e59864;text-align:right;'>0.2000</td><td style='color:black;background-color:#98e564;text-align:right;'>0.8000</td></tr>\n",
       "</table>"
      ],
      "text/plain": [
       "(pyAgrum.Potential<double>@00000158D2B83410) \n",
       "      ||  Symptom3         |\n",
       "Diseas||0        |1        |\n",
       "------||---------|---------|\n",
       "No    || 0.9990  | 0.0010  |\n",
       "Diseas|| 0.5000  | 0.5000  |\n",
       "Diseas|| 0.4000  | 0.6000  |\n",
       "Diseas|| 0.2000  | 0.8000  |"
      ]
     },
     "execution_count": 123,
     "metadata": {},
     "output_type": "execute_result"
    }
   ],
   "source": [
    "medicine_bn.cpt(symptom3)"
   ]
  },
  {
   "cell_type": "markdown",
   "id": "997d9e79",
   "metadata": {},
   "source": [
    "Аналогичную работу проделываем и с тестированием заболевания З3. Как известно, если пациент действительно болеет З3, то тест окажется положительным в 97% случаев. А если он не болеет З3, то тест все равно окажется положительным, но уже в 12% случаев. Опишем это"
   ]
  },
  {
   "cell_type": "code",
   "execution_count": 124,
   "id": "9e4fcb26",
   "metadata": {},
   "outputs": [
    {
     "data": {
      "text/html": [
       "<table style=\"border:1px solid black;\">\n",
       "<tr><th colspan='1'></th>\n",
       "      <th colspan='2' style='border:1px solid black;color:black;background-color:#808080;'><center>Test</center>\n",
       "      </th></tr>\n",
       "<tr><th style='border:1px solid black;color:black;background-color:#808080'><center>Disease</center></th><th style='border:1px solid black;border-bottom-style: double;color:black;background-color:#BBBBBB'>\n",
       "      <center>0</center></th><th style='border:1px solid black;border-bottom-style: double;color:black;background-color:#BBBBBB'>\n",
       "      <center>1</center></th></tr>\n",
       "<tr><th style='border:1px solid black;color:black;background-color:#BBBBBB'><center>No</center></th><td style='color:black;background-color:#8eef64;text-align:right;'>0.8800</td><td style='color:black;background-color:#ef8e64;text-align:right;'>0.1200</td></tr>\n",
       "<tr><th style='border:1px solid black;color:black;background-color:#BBBBBB'><center>Disease1</center></th><td style='color:black;background-color:#8eef64;text-align:right;'>0.8800</td><td style='color:black;background-color:#ef8e64;text-align:right;'>0.1200</td></tr>\n",
       "<tr><th style='border:1px solid black;color:black;background-color:#BBBBBB'><center>Disease2</center></th><td style='color:black;background-color:#8eef64;text-align:right;'>0.8800</td><td style='color:black;background-color:#ef8e64;text-align:right;'>0.1200</td></tr>\n",
       "<tr><th style='border:1px solid black;color:black;background-color:#BBBBBB'><center>Disease3</center></th><td style='color:black;background-color:#fb8264;text-align:right;'>0.0300</td><td style='color:black;background-color:#82fb64;text-align:right;'>0.9700</td></tr>\n",
       "</table>"
      ],
      "text/plain": [
       "(pyAgrum.Potential<double>@00000158D2B83230) \n",
       "      ||  Test             |\n",
       "Diseas||0        |1        |\n",
       "------||---------|---------|\n",
       "No    || 0.8800  | 0.1200  |\n",
       "Diseas|| 0.8800  | 0.1200  |\n",
       "Diseas|| 0.8800  | 0.1200  |\n",
       "Diseas|| 0.0300  | 0.9700  |"
      ]
     },
     "execution_count": 124,
     "metadata": {},
     "output_type": "execute_result"
    }
   ],
   "source": [
    "test = medicine_bn.idFromName('Test')\n",
    "\n",
    "medicine_bn.cpt(test)[{'Disease': 'No'}] = [0.88, 0.12]   # два значения: для Test=0 (отр.) и Test=1 (пол.)\n",
    "medicine_bn.cpt(test)[{'Disease': 'Disease1'}] = [0.88, 0.12] \n",
    "medicine_bn.cpt(test)[{'Disease': 'Disease2'}] = [0.88, 0.12] \n",
    "medicine_bn.cpt(test)[{'Disease': 'Disease3'}] = [0.03, 0.97]\n",
    "\n",
    "medicine_bn.cpt(test)"
   ]
  },
  {
   "cell_type": "markdown",
   "id": "f4df5086",
   "metadata": {},
   "source": [
    "# 1 Задание. Определите стоимость информации о наличии у пациента каждого из симптомов."
   ]
  },
  {
   "cell_type": "code",
   "execution_count": 125,
   "id": "bdc40bde",
   "metadata": {},
   "outputs": [
    {
     "data": {
      "text/html": [
       "<table style=\"border:1px solid black;\">\n",
       "<tr><th colspan='2'></th>\n",
       "      <th colspan='3' style='border:1px solid black;color:black;background-color:#808080;'><center>Treat</center>\n",
       "      </th></tr>\n",
       "<tr><th style='border:1px solid black;color:black;background-color:#808080'><center>Disease</center></th><th style='border:1px solid black;color:black;background-color:#808080'><center>Symptom1</center></th><th style='border:1px solid black;border-bottom-style: double;color:black;background-color:#BBBBBB'>\n",
       "      <center>No</center></th><th style='border:1px solid black;border-bottom-style: double;color:black;background-color:#BBBBBB'>\n",
       "      <center>T1</center></th><th style='border:1px solid black;border-bottom-style: double;color:black;background-color:#BBBBBB'>\n",
       "      <center>T2</center></th></tr>\n",
       "<tr><th style='border:1px solid black;color:black;background-color:#BBBBBB;' rowspan = '2'>\n",
       "            <center>No</center></th><th style='border:1px solid black;color:black;background-color:#BBBBBB'><center>0</center></th><td style='text-align:right;'>2000.0000</td><td style='text-align:right;'>600.0000</td><td style='text-align:right;'>-1900.0000</td></tr>\n",
       "<tr><th style='border:1px solid black;color:black;background-color:#BBBBBB'><center>1</center></th><td style='text-align:right;'>2000.0000</td><td style='text-align:right;'>600.0000</td><td style='text-align:right;'>-1900.0000</td></tr>\n",
       "<tr><th style='border:1px solid black;color:black;background-color:#BBBBBB;' rowspan = '2'>\n",
       "            <center>Disease1</center></th><th style='border:1px solid black;color:black;background-color:#BBBBBB'><center>0</center></th><td style='text-align:right;'>1100.0000</td><td style='text-align:right;'>400.0000</td><td style='text-align:right;'>-2400.0000</td></tr>\n",
       "<tr><th style='border:1px solid black;color:black;background-color:#BBBBBB'><center>1</center></th><td style='text-align:right;'>1100.0000</td><td style='text-align:right;'>400.0000</td><td style='text-align:right;'>-2400.0000</td></tr>\n",
       "<tr><th style='border:1px solid black;color:black;background-color:#BBBBBB;' rowspan = '2'>\n",
       "            <center>Disease2</center></th><th style='border:1px solid black;color:black;background-color:#BBBBBB'><center>0</center></th><td style='text-align:right;'>1400.0000</td><td style='text-align:right;'>400.0000</td><td style='text-align:right;'>-1900.0000</td></tr>\n",
       "<tr><th style='border:1px solid black;color:black;background-color:#BBBBBB'><center>1</center></th><td style='text-align:right;'>1400.0000</td><td style='text-align:right;'>400.0000</td><td style='text-align:right;'>-1900.0000</td></tr>\n",
       "<tr><th style='border:1px solid black;color:black;background-color:#BBBBBB;' rowspan = '2'>\n",
       "            <center>Disease3</center></th><th style='border:1px solid black;color:black;background-color:#BBBBBB'><center>0</center></th><td style='text-align:right;'>1000.0000</td><td style='text-align:right;'>-300.0000</td><td style='text-align:right;'>-1700.0000</td></tr>\n",
       "<tr><th style='border:1px solid black;color:black;background-color:#BBBBBB'><center>1</center></th><td style='text-align:right;'>1000.0000</td><td style='text-align:right;'>-300.0000</td><td style='text-align:right;'>-1700.0000</td></tr>\n",
       "</table>"
      ],
      "text/plain": [
       "(pyAgrum.Potential<double>@00000158D2B834F0) \n",
       "             ||  Treat                      |\n",
       "Sympto|Diseas||No       |T1       |T2       |\n",
       "------|------||---------|---------|---------|\n",
       "0     |No    || 2000.0000| 600.0000| -1900.0000|\n",
       "1     |No    || 2000.0000| 600.0000| -1900.0000|\n",
       "0     |Diseas|| 1100.0000| 400.0000| -2400.0000|\n",
       "1     |Diseas|| 1100.0000| 400.0000| -2400.0000|\n",
       "0     |Diseas|| 1400.0000| 400.0000| -1900.0000|\n",
       "1     |Diseas|| 1400.0000| 400.0000| -1900.0000|\n",
       "0     |Diseas|| 1000.0000| -300.0000| -1700.0000|\n",
       "1     |Diseas|| 1000.0000| -300.0000| -1700.0000|"
      ]
     },
     "execution_count": 125,
     "metadata": {},
     "output_type": "execute_result"
    }
   ],
   "source": [
    "d = medicine_bn.variable(0)   # Болезнь\n",
    "s1 = medicine_bn.variable(1)  # Симптом 1\n",
    "c = gum.LabelizedVariable('Treat', 'Treated?', 3) # Лечение\n",
    "c.changeLabel(0, 'No')\n",
    "c.changeLabel(1, 'T1')\n",
    "c.changeLabel(2, 'T2')\n",
    "\n",
    "utility_potential_s1 = gum.Potential().add(c).add(s1).add(d)\n",
    "\n",
    "# Значение полезности по факту не зависит от наличия симптома \n",
    "# просто копируем значения из таблицы utility_potential\n",
    "for disease in ['No', 'Disease1', 'Disease2', 'Disease3']:\n",
    "    for s1 in [0, 1]:\n",
    "        for t in ['No', 'T1', 'T2']:\n",
    "            utility_potential_s1[{'Disease': disease, 'Symptom1': s1, 'Treat': t}] = utility_potential[{'Disease': disease, 'Treat': t}]\n",
    "utility_potential_s1 "
   ]
  },
  {
   "cell_type": "code",
   "execution_count": 126,
   "id": "360bddf7",
   "metadata": {},
   "outputs": [],
   "source": [
    "joint_proba_d_s1 = medicine_bn.cpt(medicine_bn.idFromName('Disease')) * medicine_bn.cpt(medicine_bn.idFromName('Symptom1'))"
   ]
  },
  {
   "cell_type": "code",
   "execution_count": 127,
   "id": "d3e99cee",
   "metadata": {},
   "outputs": [
    {
     "data": {
      "text/html": [
       "<table style=\"border:1px solid black;\">\n",
       "<tr><th colspan='1'></th>\n",
       "      <th colspan='2' style='border:1px solid black;color:black;background-color:#808080;'><center>Symptom1</center>\n",
       "      </th></tr>\n",
       "<tr><th style='border:1px solid black;color:black;background-color:#808080'><center>Treat</center></th><th style='border:1px solid black;border-bottom-style: double;color:black;background-color:#BBBBBB'>\n",
       "      <center>0</center></th><th style='border:1px solid black;border-bottom-style: double;color:black;background-color:#BBBBBB'>\n",
       "      <center>1</center></th></tr>\n",
       "<tr><th style='border:1px solid black;color:black;background-color:#BBBBBB'><center>No</center></th><td style='text-align:right;'>1949.7060</td><td style='text-align:right;'>30.7940</td></tr>\n",
       "<tr><th style='border:1px solid black;color:black;background-color:#BBBBBB'><center>T1</center></th><td style='text-align:right;'>583.9668</td><td style='text-align:right;'>8.3332</td></tr>\n",
       "<tr><th style='border:1px solid black;color:black;background-color:#BBBBBB'><center>T2</center></th><td style='text-align:right;'>-1856.3032</td><td style='text-align:right;'>-45.5968</td></tr>\n",
       "</table>"
      ],
      "text/plain": [
       "(pyAgrum.Potential<double>@00000158D2B83530) \n",
       "      ||  Symptom1         |\n",
       "Treat ||0        |1        |\n",
       "------||---------|---------|\n",
       "No    || 1949.7060| 30.7940 |\n",
       "T1    || 583.9668| 8.3332  |\n",
       "T2    || -1856.3032| -45.5968|"
      ]
     },
     "execution_count": 127,
     "metadata": {},
     "output_type": "execute_result"
    }
   ],
   "source": [
    "(utility_potential_s1 * joint_proba_d_s1).margSumOut(['Disease'])"
   ]
  },
  {
   "cell_type": "markdown",
   "id": "869b7303",
   "metadata": {},
   "source": [
    "Заметим, что вне зависимости от того, имеется ли симптом С1, оптимальным решением будет не лечить. Следовательно, при наличии информации о симптоме С1 стратегия будет полностью совпадать со стратегией без этой информации, а значит и ожидаемая полезность не изменится. Таким образом, цена информации о симптоме С1 равна 0."
   ]
  },
  {
   "cell_type": "code",
   "execution_count": 128,
   "id": "adcfc31d",
   "metadata": {},
   "outputs": [
    {
     "data": {
      "text/html": [
       "<table style=\"border:1px solid black;\">\n",
       "<tr><th colspan='1'></th>\n",
       "      <th colspan='3' style='border:1px solid black;color:black;background-color:#808080;'><center>Treat</center>\n",
       "      </th></tr>\n",
       "<tr><th style='border:1px solid black;color:black;background-color:#808080'><center>Disease</center></th><th style='border:1px solid black;border-bottom-style: double;color:black;background-color:#BBBBBB'>\n",
       "      <center>No</center></th><th style='border:1px solid black;border-bottom-style: double;color:black;background-color:#BBBBBB'>\n",
       "      <center>T1</center></th><th style='border:1px solid black;border-bottom-style: double;color:black;background-color:#BBBBBB'>\n",
       "      <center>T2</center></th></tr>\n",
       "<tr><th style='border:1px solid black;color:black;background-color:#BBBBBB'><center>No</center></th><td style='text-align:right;'>2000.0000</td><td style='text-align:right;'>600.0000</td><td style='text-align:right;'>-1900.0000</td></tr>\n",
       "<tr><th style='border:1px solid black;color:black;background-color:#BBBBBB'><center>Disease1</center></th><td style='text-align:right;'>1100.0000</td><td style='text-align:right;'>400.0000</td><td style='text-align:right;'>-2400.0000</td></tr>\n",
       "<tr><th style='border:1px solid black;color:black;background-color:#BBBBBB'><center>Disease2</center></th><td style='text-align:right;'>1400.0000</td><td style='text-align:right;'>400.0000</td><td style='text-align:right;'>-1900.0000</td></tr>\n",
       "<tr><th style='border:1px solid black;color:black;background-color:#BBBBBB'><center>Disease3</center></th><td style='text-align:right;'>1000.0000</td><td style='text-align:right;'>-300.0000</td><td style='text-align:right;'>-1700.0000</td></tr>\n",
       "</table>"
      ],
      "text/plain": [
       "(pyAgrum.Potential<double>@00000158D2B83810) \n",
       "      ||  Treat                      |\n",
       "Diseas||No       |T1       |T2       |\n",
       "------||---------|---------|---------|\n",
       "No    || 2000.0000| 600.0000| -1900.0000|\n",
       "Diseas|| 1100.0000| 400.0000| -2400.0000|\n",
       "Diseas|| 1400.0000| 400.0000| -1900.0000|\n",
       "Diseas|| 1000.0000| -300.0000| -1700.0000|"
      ]
     },
     "execution_count": 128,
     "metadata": {},
     "output_type": "execute_result"
    }
   ],
   "source": [
    "# Потенциал определяется на наборе переменных. В нашем случае их две - \n",
    "# Болезнь (используем ее определение из сети) и Лечение.\n",
    "d = medicine_bn.variable(0)\n",
    "c = gum.LabelizedVariable('Treat', 'Treated?', 3)\n",
    "c.changeLabel(0, 'No')\n",
    "c.changeLabel(1, 'T1')\n",
    "c.changeLabel(2, 'T2')\n",
    "\n",
    "utility_potential = gum.Potential().add(c).add(d)\n",
    "utility_potential.fillWith([  2000,  600,  -1900, \n",
    "                             1100,   400,  -2400, \n",
    "                             1400,   400,  -1900,\n",
    "                             1000,  -300,  -1700])"
   ]
  },
  {
   "cell_type": "code",
   "execution_count": 129,
   "id": "7f273d09",
   "metadata": {},
   "outputs": [
    {
     "data": {
      "text/html": [
       "<table style=\"border:1px solid black;\">\n",
       "<tr><th colspan='2'></th>\n",
       "      <th colspan='3' style='border:1px solid black;color:black;background-color:#808080;'><center>Treat</center>\n",
       "      </th></tr>\n",
       "<tr><th style='border:1px solid black;color:black;background-color:#808080'><center>Disease</center></th><th style='border:1px solid black;color:black;background-color:#808080'><center>Symptom2</center></th><th style='border:1px solid black;border-bottom-style: double;color:black;background-color:#BBBBBB'>\n",
       "      <center>No</center></th><th style='border:1px solid black;border-bottom-style: double;color:black;background-color:#BBBBBB'>\n",
       "      <center>T1</center></th><th style='border:1px solid black;border-bottom-style: double;color:black;background-color:#BBBBBB'>\n",
       "      <center>T2</center></th></tr>\n",
       "<tr><th style='border:1px solid black;color:black;background-color:#BBBBBB;' rowspan = '2'>\n",
       "            <center>No</center></th><th style='border:1px solid black;color:black;background-color:#BBBBBB'><center>0</center></th><td style='text-align:right;'>2000.0000</td><td style='text-align:right;'>600.0000</td><td style='text-align:right;'>-1900.0000</td></tr>\n",
       "<tr><th style='border:1px solid black;color:black;background-color:#BBBBBB'><center>1</center></th><td style='text-align:right;'>2000.0000</td><td style='text-align:right;'>600.0000</td><td style='text-align:right;'>-1900.0000</td></tr>\n",
       "<tr><th style='border:1px solid black;color:black;background-color:#BBBBBB;' rowspan = '2'>\n",
       "            <center>Disease1</center></th><th style='border:1px solid black;color:black;background-color:#BBBBBB'><center>0</center></th><td style='text-align:right;'>1100.0000</td><td style='text-align:right;'>400.0000</td><td style='text-align:right;'>-2400.0000</td></tr>\n",
       "<tr><th style='border:1px solid black;color:black;background-color:#BBBBBB'><center>1</center></th><td style='text-align:right;'>1100.0000</td><td style='text-align:right;'>400.0000</td><td style='text-align:right;'>-2400.0000</td></tr>\n",
       "<tr><th style='border:1px solid black;color:black;background-color:#BBBBBB;' rowspan = '2'>\n",
       "            <center>Disease2</center></th><th style='border:1px solid black;color:black;background-color:#BBBBBB'><center>0</center></th><td style='text-align:right;'>1400.0000</td><td style='text-align:right;'>400.0000</td><td style='text-align:right;'>-1900.0000</td></tr>\n",
       "<tr><th style='border:1px solid black;color:black;background-color:#BBBBBB'><center>1</center></th><td style='text-align:right;'>1400.0000</td><td style='text-align:right;'>400.0000</td><td style='text-align:right;'>-1900.0000</td></tr>\n",
       "<tr><th style='border:1px solid black;color:black;background-color:#BBBBBB;' rowspan = '2'>\n",
       "            <center>Disease3</center></th><th style='border:1px solid black;color:black;background-color:#BBBBBB'><center>0</center></th><td style='text-align:right;'>1000.0000</td><td style='text-align:right;'>-300.0000</td><td style='text-align:right;'>-1700.0000</td></tr>\n",
       "<tr><th style='border:1px solid black;color:black;background-color:#BBBBBB'><center>1</center></th><td style='text-align:right;'>1000.0000</td><td style='text-align:right;'>-300.0000</td><td style='text-align:right;'>-1700.0000</td></tr>\n",
       "</table>"
      ],
      "text/plain": [
       "(pyAgrum.Potential<double>@00000158D2B83BB0) \n",
       "             ||  Treat                      |\n",
       "Sympto|Diseas||No       |T1       |T2       |\n",
       "------|------||---------|---------|---------|\n",
       "0     |No    || 2000.0000| 600.0000| -1900.0000|\n",
       "1     |No    || 2000.0000| 600.0000| -1900.0000|\n",
       "0     |Diseas|| 1100.0000| 400.0000| -2400.0000|\n",
       "1     |Diseas|| 1100.0000| 400.0000| -2400.0000|\n",
       "0     |Diseas|| 1400.0000| 400.0000| -1900.0000|\n",
       "1     |Diseas|| 1400.0000| 400.0000| -1900.0000|\n",
       "0     |Diseas|| 1000.0000| -300.0000| -1700.0000|\n",
       "1     |Diseas|| 1000.0000| -300.0000| -1700.0000|"
      ]
     },
     "execution_count": 129,
     "metadata": {},
     "output_type": "execute_result"
    }
   ],
   "source": [
    "s2 = medicine_bn.variable(2)  # Симптом 2\n",
    "utility_potential_s2 = gum.Potential().add(c).add(s2).add(d)\n",
    "# Значение полезности по факту не зависит от наличия симптома \n",
    "# просто копируем значения из таблицы utility_potential\n",
    "for disease in ['No', 'Disease1', 'Disease2', 'Disease3']:\n",
    "    for s2 in [0, 1]:\n",
    "        for t in ['No', 'T1', 'T2']:\n",
    "            utility_potential_s2[{'Disease': disease, 'Symptom2': s2, 'Treat': t}] = utility_potential[{'Disease': disease, 'Treat': t}]\n",
    "utility_potential_s2            "
   ]
  },
  {
   "cell_type": "code",
   "execution_count": 130,
   "id": "41f9b414",
   "metadata": {},
   "outputs": [],
   "source": [
    "joint_proba_d_s2 = medicine_bn.cpt(medicine_bn.idFromName('Disease')) * medicine_bn.cpt(medicine_bn.idFromName('Symptom2'))"
   ]
  },
  {
   "cell_type": "code",
   "execution_count": 131,
   "id": "a1fc881a",
   "metadata": {},
   "outputs": [
    {
     "data": {
      "text/html": [
       "<table style=\"border:1px solid black;\">\n",
       "<tr><th colspan='1'></th>\n",
       "      <th colspan='2' style='border:1px solid black;color:black;background-color:#808080;'><center>Symptom2</center>\n",
       "      </th></tr>\n",
       "<tr><th style='border:1px solid black;color:black;background-color:#808080'><center>Treat</center></th><th style='border:1px solid black;border-bottom-style: double;color:black;background-color:#BBBBBB'>\n",
       "      <center>0</center></th><th style='border:1px solid black;border-bottom-style: double;color:black;background-color:#BBBBBB'>\n",
       "      <center>1</center></th></tr>\n",
       "<tr><th style='border:1px solid black;color:black;background-color:#BBBBBB'><center>No</center></th><td style='text-align:right;'>1950.4560</td><td style='text-align:right;'>30.0440</td></tr>\n",
       "<tr><th style='border:1px solid black;color:black;background-color:#BBBBBB'><center>T1</center></th><td style='text-align:right;'>584.8368</td><td style='text-align:right;'>7.4632</td></tr>\n",
       "<tr><th style='border:1px solid black;color:black;background-color:#BBBBBB'><center>T2</center></th><td style='text-align:right;'>-1858.3732</td><td style='text-align:right;'>-43.5268</td></tr>\n",
       "</table>"
      ],
      "text/plain": [
       "(pyAgrum.Potential<double>@00000158D14B9F90) \n",
       "      ||  Symptom2         |\n",
       "Treat ||0        |1        |\n",
       "------||---------|---------|\n",
       "No    || 1950.4560| 30.0440 |\n",
       "T1    || 584.8368| 7.4632  |\n",
       "T2    || -1858.3732| -43.5268|"
      ]
     },
     "execution_count": 131,
     "metadata": {},
     "output_type": "execute_result"
    }
   ],
   "source": [
    "(utility_potential_s2 * joint_proba_d_s2).margSumOut(['Disease'])"
   ]
  },
  {
   "cell_type": "code",
   "execution_count": 132,
   "id": "535bb311",
   "metadata": {},
   "outputs": [
    {
     "data": {
      "text/html": [
       "<table style=\"border:1px solid black;\">\n",
       "<tr><th colspan='2'></th>\n",
       "      <th colspan='3' style='border:1px solid black;color:black;background-color:#808080;'><center>Treat</center>\n",
       "      </th></tr>\n",
       "<tr><th style='border:1px solid black;color:black;background-color:#808080'><center>Disease</center></th><th style='border:1px solid black;color:black;background-color:#808080'><center>Symptom3</center></th><th style='border:1px solid black;border-bottom-style: double;color:black;background-color:#BBBBBB'>\n",
       "      <center>No</center></th><th style='border:1px solid black;border-bottom-style: double;color:black;background-color:#BBBBBB'>\n",
       "      <center>T1</center></th><th style='border:1px solid black;border-bottom-style: double;color:black;background-color:#BBBBBB'>\n",
       "      <center>T2</center></th></tr>\n",
       "<tr><th style='border:1px solid black;color:black;background-color:#BBBBBB;' rowspan = '2'>\n",
       "            <center>No</center></th><th style='border:1px solid black;color:black;background-color:#BBBBBB'><center>0</center></th><td style='text-align:right;'>2000.0000</td><td style='text-align:right;'>600.0000</td><td style='text-align:right;'>-1900.0000</td></tr>\n",
       "<tr><th style='border:1px solid black;color:black;background-color:#BBBBBB'><center>1</center></th><td style='text-align:right;'>2000.0000</td><td style='text-align:right;'>600.0000</td><td style='text-align:right;'>-1900.0000</td></tr>\n",
       "<tr><th style='border:1px solid black;color:black;background-color:#BBBBBB;' rowspan = '2'>\n",
       "            <center>Disease1</center></th><th style='border:1px solid black;color:black;background-color:#BBBBBB'><center>0</center></th><td style='text-align:right;'>1100.0000</td><td style='text-align:right;'>400.0000</td><td style='text-align:right;'>-2400.0000</td></tr>\n",
       "<tr><th style='border:1px solid black;color:black;background-color:#BBBBBB'><center>1</center></th><td style='text-align:right;'>1100.0000</td><td style='text-align:right;'>400.0000</td><td style='text-align:right;'>-2400.0000</td></tr>\n",
       "<tr><th style='border:1px solid black;color:black;background-color:#BBBBBB;' rowspan = '2'>\n",
       "            <center>Disease2</center></th><th style='border:1px solid black;color:black;background-color:#BBBBBB'><center>0</center></th><td style='text-align:right;'>1400.0000</td><td style='text-align:right;'>400.0000</td><td style='text-align:right;'>-1900.0000</td></tr>\n",
       "<tr><th style='border:1px solid black;color:black;background-color:#BBBBBB'><center>1</center></th><td style='text-align:right;'>1400.0000</td><td style='text-align:right;'>400.0000</td><td style='text-align:right;'>-1900.0000</td></tr>\n",
       "<tr><th style='border:1px solid black;color:black;background-color:#BBBBBB;' rowspan = '2'>\n",
       "            <center>Disease3</center></th><th style='border:1px solid black;color:black;background-color:#BBBBBB'><center>0</center></th><td style='text-align:right;'>1000.0000</td><td style='text-align:right;'>-300.0000</td><td style='text-align:right;'>-1700.0000</td></tr>\n",
       "<tr><th style='border:1px solid black;color:black;background-color:#BBBBBB'><center>1</center></th><td style='text-align:right;'>1000.0000</td><td style='text-align:right;'>-300.0000</td><td style='text-align:right;'>-1700.0000</td></tr>\n",
       "</table>"
      ],
      "text/plain": [
       "(pyAgrum.Potential<double>@00000158D14B9FD0) \n",
       "             ||  Treat                      |\n",
       "Sympto|Diseas||No       |T1       |T2       |\n",
       "------|------||---------|---------|---------|\n",
       "0     |No    || 2000.0000| 600.0000| -1900.0000|\n",
       "1     |No    || 2000.0000| 600.0000| -1900.0000|\n",
       "0     |Diseas|| 1100.0000| 400.0000| -2400.0000|\n",
       "1     |Diseas|| 1100.0000| 400.0000| -2400.0000|\n",
       "0     |Diseas|| 1400.0000| 400.0000| -1900.0000|\n",
       "1     |Diseas|| 1400.0000| 400.0000| -1900.0000|\n",
       "0     |Diseas|| 1000.0000| -300.0000| -1700.0000|\n",
       "1     |Diseas|| 1000.0000| -300.0000| -1700.0000|"
      ]
     },
     "execution_count": 132,
     "metadata": {},
     "output_type": "execute_result"
    }
   ],
   "source": [
    "s3 = medicine_bn.variable(3)  # Симптом 2\n",
    "utility_potential_s3 = gum.Potential().add(c).add(s3).add(d)\n",
    "# Значение полезности по факту не зависит от наличия симптома \n",
    "# просто копируем значения из таблицы utility_potential\n",
    "for disease in ['No', 'Disease1', 'Disease2', 'Disease3']:\n",
    "    for s3 in [0, 1]:\n",
    "        for t in ['No', 'T1', 'T2']:\n",
    "            utility_potential_s3[{'Disease': disease, 'Symptom3': s3, 'Treat': t}] = utility_potential[{'Disease': disease, 'Treat': t}]\n",
    "utility_potential_s3   "
   ]
  },
  {
   "cell_type": "code",
   "execution_count": 133,
   "id": "257cff59",
   "metadata": {},
   "outputs": [],
   "source": [
    "joint_proba_d_s3 = medicine_bn.cpt(medicine_bn.idFromName('Disease')) * medicine_bn.cpt(medicine_bn.idFromName('Symptom3'))"
   ]
  },
  {
   "cell_type": "code",
   "execution_count": 134,
   "id": "590f6ccf",
   "metadata": {},
   "outputs": [
    {
     "data": {
      "text/html": [
       "<table style=\"border:1px solid black;\">\n",
       "<tr><th colspan='1'></th>\n",
       "      <th colspan='2' style='border:1px solid black;color:black;background-color:#808080;'><center>Symptom3</center>\n",
       "      </th></tr>\n",
       "<tr><th style='border:1px solid black;color:black;background-color:#808080'><center>Treat</center></th><th style='border:1px solid black;border-bottom-style: double;color:black;background-color:#BBBBBB'>\n",
       "      <center>0</center></th><th style='border:1px solid black;border-bottom-style: double;color:black;background-color:#BBBBBB'>\n",
       "      <center>1</center></th></tr>\n",
       "<tr><th style='border:1px solid black;color:black;background-color:#BBBBBB'><center>No</center></th><td style='text-align:right;'>1956.6060</td><td style='text-align:right;'>23.8940</td></tr>\n",
       "<tr><th style='border:1px solid black;color:black;background-color:#BBBBBB'><center>T1</center></th><td style='text-align:right;'>586.6368</td><td style='text-align:right;'>5.6632</td></tr>\n",
       "<tr><th style='border:1px solid black;color:black;background-color:#BBBBBB'><center>T2</center></th><td style='text-align:right;'>-1867.1732</td><td style='text-align:right;'>-34.7268</td></tr>\n",
       "</table>"
      ],
      "text/plain": [
       "(pyAgrum.Potential<double>@00000158D1889FF0) \n",
       "      ||  Symptom3         |\n",
       "Treat ||0        |1        |\n",
       "------||---------|---------|\n",
       "No    || 1956.6060| 23.8940 |\n",
       "T1    || 586.6368| 5.6632  |\n",
       "T2    || -1867.1732| -34.7268|"
      ]
     },
     "execution_count": 134,
     "metadata": {},
     "output_type": "execute_result"
    }
   ],
   "source": [
    "(utility_potential_s3 * joint_proba_d_s3).margSumOut(['Disease'])"
   ]
  },
  {
   "cell_type": "markdown",
   "id": "4acb8ef4",
   "metadata": {},
   "source": [
    "Аналогичные выводы можно сделать и при симтомах С2 и С3. \n",
    "Т.е. При всех симптомах стоимость информации равна 0."
   ]
  },
  {
   "cell_type": "markdown",
   "id": "9526fbaf",
   "metadata": {},
   "source": [
    "# 2 Задание"
   ]
  },
  {
   "cell_type": "markdown",
   "id": "9fc9e0a6",
   "metadata": {},
   "source": [
    "# 2.a Вероятности того, что у пациента присутствует каждое из заболеваний. Какое является наиболее вероятным?"
   ]
  },
  {
   "cell_type": "markdown",
   "id": "73392b0d",
   "metadata": {},
   "source": [
    "Пусть для начала у пациента наблюдается только С1"
   ]
  },
  {
   "cell_type": "code",
   "execution_count": 135,
   "id": "f706a98c",
   "metadata": {},
   "outputs": [
    {
     "data": {
      "text/html": [
       "<table style=\"border:1px solid black;\">\n",
       "<tr style='border:1px solid black;color:black;background-color:#808080'>\n",
       "      <th colspan='4'><center>Disease</center></th></tr>\n",
       "<tr><th style='border:1px solid black;border-bottom-style: double;color:black;background-color:#BBBBBB'>\n",
       "      <center>No</center></th><th style='border:1px solid black;border-bottom-style: double;color:black;background-color:#BBBBBB'>\n",
       "      <center>Disease1</center></th><th style='border:1px solid black;border-bottom-style: double;color:black;background-color:#BBBBBB'>\n",
       "      <center>Disease2</center></th><th style='border:1px solid black;border-bottom-style: double;color:black;background-color:#BBBBBB'>\n",
       "      <center>Disease3</center></th></tr>\n",
       "<tr><td style='color:black;background-color:#f98464;text-align:right;'>0.0423</td><td style='color:black;background-color:#e59864;text-align:right;'>0.1959</td><td style='color:black;background-color:#a5d864;text-align:right;'>0.6965</td><td style='color:black;background-color:#f68764;text-align:right;'>0.0653</td></tr>\n",
       "</table>"
      ],
      "text/plain": [
       "(pyAgrum.Potential<double>@00000158D2B83C50) \n",
       "  Disease                              |\n",
       "No       |Disease1 |Disease2 |Disease3 |\n",
       "---------|---------|---------|---------|\n",
       " 0.0423  | 0.1959  | 0.6965  | 0.0653  |"
      ]
     },
     "execution_count": 135,
     "metadata": {},
     "output_type": "execute_result"
    }
   ],
   "source": [
    "ie=gum.VariableElimination(medicine_bn)\n",
    "ie.eraseAllEvidence()\n",
    "ie.setEvidence({'Symptom1': 1}) # указываем, что наблюдается только С1\n",
    "# Апостериорная вероятность того, что у пациента есть заболевание\n",
    "ie.posterior('Disease')"
   ]
  },
  {
   "cell_type": "markdown",
   "id": "d96b9d0a",
   "metadata": {},
   "source": [
    "Видим, что если пациент имеет симпотом С1, то вероятности заболеть \n",
    "\n",
    "| Заболевание |Вероятность|\n",
    "|-------------|-----------|\n",
    "|  31         |   0.1959  | \n",
    "|  32         |   0.6965  |\n",
    "|  32         |   0.0653  | \n"
   ]
  },
  {
   "cell_type": "markdown",
   "id": "98d119b3",
   "metadata": {},
   "source": [
    "Т.е. при С2 вероятностьзаболеть З2 наибольшая"
   ]
  },
  {
   "cell_type": "markdown",
   "id": "3d1f6a6d",
   "metadata": {},
   "source": [
    "Теперь пусть у пациента наблюдается только С2"
   ]
  },
  {
   "cell_type": "code",
   "execution_count": 136,
   "id": "d1d15872",
   "metadata": {},
   "outputs": [
    {
     "data": {
      "text/html": [
       "<table style=\"border:1px solid black;\">\n",
       "<tr style='border:1px solid black;color:black;background-color:#808080'>\n",
       "      <th colspan='4'><center>Disease</center></th></tr>\n",
       "<tr><th style='border:1px solid black;border-bottom-style: double;color:black;background-color:#BBBBBB'>\n",
       "      <center>No</center></th><th style='border:1px solid black;border-bottom-style: double;color:black;background-color:#BBBBBB'>\n",
       "      <center>Disease1</center></th><th style='border:1px solid black;border-bottom-style: double;color:black;background-color:#BBBBBB'>\n",
       "      <center>Disease2</center></th><th style='border:1px solid black;border-bottom-style: double;color:black;background-color:#BBBBBB'>\n",
       "      <center>Disease3</center></th></tr>\n",
       "<tr><td style='color:black;background-color:#f98464;text-align:right;'>0.0434</td><td style='color:black;background-color:#ed9064;text-align:right;'>0.1341</td><td style='color:black;background-color:#a3da64;text-align:right;'>0.7152</td><td style='color:black;background-color:#f18c64;text-align:right;'>0.1073</td></tr>\n",
       "</table>"
      ],
      "text/plain": [
       "(pyAgrum.Potential<double>@00000158D2B839B0) \n",
       "  Disease                              |\n",
       "No       |Disease1 |Disease2 |Disease3 |\n",
       "---------|---------|---------|---------|\n",
       " 0.0434  | 0.1341  | 0.7152  | 0.1073  |"
      ]
     },
     "execution_count": 136,
     "metadata": {},
     "output_type": "execute_result"
    }
   ],
   "source": [
    "ie.eraseAllEvidence()\n",
    "ie.setEvidence({'Symptom2': 1}) # указываем, что наблюдается только С2\n",
    "# Апостериорная вероятность того, что у пациента есть заболевание\n",
    "ie.posterior('Disease')"
   ]
  },
  {
   "cell_type": "markdown",
   "id": "349067a3",
   "metadata": {},
   "source": [
    "Видим, что если пациент имеет симпотом С1, то вероятности заболеть \n",
    "\n",
    "| Заболевание |Вероятность|\n",
    "|-------------|-----------|\n",
    "|  31         |   0.1341  | \n",
    "|  32         |   0.7152  |\n",
    "|  32         |   0.1073  | "
   ]
  },
  {
   "cell_type": "markdown",
   "id": "1c610583",
   "metadata": {},
   "source": [
    "Видно, что при симптоме С2, вероятность заболеть З2 стала еще больше, вероятность 31 немного уменьшилась, а вероятность З3 немного поднялась\n",
    "\n",
    "Теперь посмотрим на результаты при условии, что пациент имеет сразу оба симптома"
   ]
  },
  {
   "cell_type": "code",
   "execution_count": 137,
   "id": "55367afa",
   "metadata": {},
   "outputs": [
    {
     "data": {
      "text/html": [
       "<table style=\"border:1px solid black;\">\n",
       "<tr style='border:1px solid black;color:black;background-color:#808080'>\n",
       "      <th colspan='4'><center>Disease</center></th></tr>\n",
       "<tr><th style='border:1px solid black;border-bottom-style: double;color:black;background-color:#BBBBBB'>\n",
       "      <center>No</center></th><th style='border:1px solid black;border-bottom-style: double;color:black;background-color:#BBBBBB'>\n",
       "      <center>Disease1</center></th><th style='border:1px solid black;border-bottom-style: double;color:black;background-color:#BBBBBB'>\n",
       "      <center>Disease2</center></th><th style='border:1px solid black;border-bottom-style: double;color:black;background-color:#BBBBBB'>\n",
       "      <center>Disease3</center></th></tr>\n",
       "<tr><td style='color:black;background-color:#fe7f64;text-align:right;'>0.0001</td><td style='color:black;background-color:#ea9364;text-align:right;'>0.1617</td><td style='color:black;background-color:#9ce164;text-align:right;'>0.7664</td><td style='color:black;background-color:#f58864;text-align:right;'>0.0719</td></tr>\n",
       "</table>"
      ],
      "text/plain": [
       "(pyAgrum.Potential<double>@00000158D2B83970) \n",
       "  Disease                              |\n",
       "No       |Disease1 |Disease2 |Disease3 |\n",
       "---------|---------|---------|---------|\n",
       " 0.0001  | 0.1617  | 0.7664  | 0.0719  |"
      ]
     },
     "execution_count": 137,
     "metadata": {},
     "output_type": "execute_result"
    }
   ],
   "source": [
    "ie.eraseAllEvidence()\n",
    "# Пусть известно, что у пациента присутствуют оба симптома (про тест ничего не известно)\n",
    "ie.setEvidence({'Symptom1': 1,\n",
    "                'Symptom2': 1})\n",
    "# Апостериорная вероятность того, что у пациента есть заболевание\n",
    "ie.posterior('Disease')"
   ]
  },
  {
   "cell_type": "markdown",
   "id": "7562690a",
   "metadata": {},
   "source": [
    "| Заболевание |Вероятность|\n",
    "|-------------|-----------|\n",
    "|  31         |   0.1617  | \n",
    "|  32         |   0.7664  |\n",
    "|  32         |   0.0719  | "
   ]
  },
  {
   "cell_type": "markdown",
   "id": "fd08f23d",
   "metadata": {},
   "source": [
    "По-прежнему З2 является наиболее вероятном. Можно сделать вывод, что З1 И З3 являются наиболее редкими заболеваниями."
   ]
  },
  {
   "cell_type": "markdown",
   "id": "41851eaf",
   "metadata": {},
   "source": [
    "#  2.b Оптимальные действия по диагностике и лечению. Стоит ли проводить диагностическую процедуру?"
   ]
  },
  {
   "cell_type": "markdown",
   "id": "82fa7ae1",
   "metadata": {},
   "source": [
    "На предыдущем шаге мы выяснили, что при любом случаи вероятность заболевания **З2** выше заболевание **З1** и **З3**.Поэтому оптимальнее всего было бы не проводить диагностической процедуры.\n",
    "\n",
    "Но можем заметить, что если наблюдается только  С2, то вероятности З1 и З2 практически равны, возможно тут нам и поможет диагностическая процедура."
   ]
  },
  {
   "cell_type": "code",
   "execution_count": 138,
   "id": "cabbe06f",
   "metadata": {},
   "outputs": [
    {
     "data": {
      "text/html": [
       "<table style=\"border:1px solid black;\">\n",
       "<tr style='border:1px solid black;color:black;background-color:#808080'>\n",
       "      <th colspan='4'><center>Disease</center></th></tr>\n",
       "<tr><th style='border:1px solid black;border-bottom-style: double;color:black;background-color:#BBBBBB'>\n",
       "      <center>No</center></th><th style='border:1px solid black;border-bottom-style: double;color:black;background-color:#BBBBBB'>\n",
       "      <center>Disease1</center></th><th style='border:1px solid black;border-bottom-style: double;color:black;background-color:#BBBBBB'>\n",
       "      <center>Disease2</center></th><th style='border:1px solid black;border-bottom-style: double;color:black;background-color:#BBBBBB'>\n",
       "      <center>Disease3</center></th></tr>\n",
       "<tr><td style='color:black;background-color:#fe7f64;text-align:right;'>0.0001</td><td style='color:black;background-color:#e89564;text-align:right;'>0.1737</td><td style='color:black;background-color:#95e864;text-align:right;'>0.8236</td><td style='color:black;background-color:#fe7f64;text-align:right;'>0.0026</td></tr>\n",
       "</table>"
      ],
      "text/plain": [
       "(pyAgrum.Potential<double>@00000158D188AA10) \n",
       "  Disease                              |\n",
       "No       |Disease1 |Disease2 |Disease3 |\n",
       "---------|---------|---------|---------|\n",
       " 0.0001  | 0.1737  | 0.8236  | 0.0026  |"
      ]
     },
     "execution_count": 138,
     "metadata": {},
     "output_type": "execute_result"
    }
   ],
   "source": [
    "ie.eraseAllEvidence()\n",
    "ie.setEvidence({'Symptom1': 1,\n",
    "                'Symptom2': 1,\n",
    "               'Test': 0})\n",
    "# Апостериорная вероятность того, что у пациента есть заболевание\n",
    "ie.posterior('Disease')"
   ]
  },
  {
   "cell_type": "markdown",
   "id": "77f388cc",
   "metadata": {},
   "source": [
    "если тест **отрицательный** и присутствуют оба симптома, то высока вероятность того, что имеется заболевание З2"
   ]
  },
  {
   "cell_type": "code",
   "execution_count": 139,
   "id": "09586a55",
   "metadata": {},
   "outputs": [
    {
     "data": {
      "text/html": [
       "<table style=\"border:1px solid black;\">\n",
       "<tr style='border:1px solid black;color:black;background-color:#808080'>\n",
       "      <th colspan='4'><center>Disease</center></th></tr>\n",
       "<tr><th style='border:1px solid black;border-bottom-style: double;color:black;background-color:#BBBBBB'>\n",
       "      <center>No</center></th><th style='border:1px solid black;border-bottom-style: double;color:black;background-color:#BBBBBB'>\n",
       "      <center>Disease1</center></th><th style='border:1px solid black;border-bottom-style: double;color:black;background-color:#BBBBBB'>\n",
       "      <center>Disease2</center></th><th style='border:1px solid black;border-bottom-style: double;color:black;background-color:#BBBBBB'>\n",
       "      <center>Disease3</center></th></tr>\n",
       "<tr><td style='color:black;background-color:#fe7f64;text-align:right;'>0.0000</td><td style='color:black;background-color:#f18c64;text-align:right;'>0.1071</td><td style='color:black;background-color:#bdc064;text-align:right;'>0.5079</td><td style='color:black;background-color:#cdb064;text-align:right;'>0.3849</td></tr>\n",
       "</table>"
      ],
      "text/plain": [
       "(pyAgrum.Potential<double>@00000158D2B83670) \n",
       "  Disease                              |\n",
       "No       |Disease1 |Disease2 |Disease3 |\n",
       "---------|---------|---------|---------|\n",
       " 0.0000  | 0.1071  | 0.5079  | 0.3849  |"
      ]
     },
     "execution_count": 139,
     "metadata": {},
     "output_type": "execute_result"
    }
   ],
   "source": [
    "ie.eraseAllEvidence()\n",
    "ie.setEvidence({'Symptom1': 1,\n",
    "                'Symptom2': 1,\n",
    "               'Test': 1})\n",
    "# Апостериорная вероятность того, что у пациента есть заболевание\n",
    "ie.posterior('Disease')"
   ]
  },
  {
   "cell_type": "markdown",
   "id": "aecf4ecb",
   "metadata": {},
   "source": [
    "если тест **положительный** и присутствуют оба симптома, то хоть и вероятность З3 поднимается, но вероятность З2 по-прежнему наибольшая"
   ]
  },
  {
   "cell_type": "code",
   "execution_count": 140,
   "id": "fe2c8d87",
   "metadata": {},
   "outputs": [
    {
     "data": {
      "text/html": [
       "<table style=\"border:1px solid black;\">\n",
       "<tr style='border:1px solid black;color:black;background-color:#808080'>\n",
       "      <th colspan='4'><center>Disease</center></th></tr>\n",
       "<tr><th style='border:1px solid black;border-bottom-style: double;color:black;background-color:#BBBBBB'>\n",
       "      <center>No</center></th><th style='border:1px solid black;border-bottom-style: double;color:black;background-color:#BBBBBB'>\n",
       "      <center>Disease1</center></th><th style='border:1px solid black;border-bottom-style: double;color:black;background-color:#BBBBBB'>\n",
       "      <center>Disease2</center></th><th style='border:1px solid black;border-bottom-style: double;color:black;background-color:#BBBBBB'>\n",
       "      <center>Disease3</center></th></tr>\n",
       "<tr><td style='color:black;background-color:#f98464;text-align:right;'>0.0452</td><td style='color:black;background-color:#e49964;text-align:right;'>0.2091</td><td style='color:black;background-color:#9fde64;text-align:right;'>0.7434</td><td style='color:black;background-color:#fe7f64;text-align:right;'>0.0024</td></tr>\n",
       "</table>"
      ],
      "text/plain": [
       "(pyAgrum.Potential<double>@00000158D14B9A70) \n",
       "  Disease                              |\n",
       "No       |Disease1 |Disease2 |Disease3 |\n",
       "---------|---------|---------|---------|\n",
       " 0.0452  | 0.2091  | 0.7434  | 0.0024  |"
      ]
     },
     "execution_count": 140,
     "metadata": {},
     "output_type": "execute_result"
    }
   ],
   "source": [
    "ie.eraseAllEvidence()\n",
    "ie.setEvidence({'Symptom1': 1,\n",
    "               'Test': 0})\n",
    "# Апостериорная вероятность того, что у пациента есть заболевание\n",
    "ie.posterior('Disease')"
   ]
  },
  {
   "cell_type": "markdown",
   "id": "ab864d78",
   "metadata": {},
   "source": [
    "если тест **отрицательный** и присутствует только С1, то наиболее вероятно З2"
   ]
  },
  {
   "cell_type": "code",
   "execution_count": 141,
   "id": "7ff7934f",
   "metadata": {},
   "outputs": [
    {
     "data": {
      "text/html": [
       "<table style=\"border:1px solid black;\">\n",
       "<tr style='border:1px solid black;color:black;background-color:#808080'>\n",
       "      <th colspan='4'><center>Disease</center></th></tr>\n",
       "<tr><th style='border:1px solid black;border-bottom-style: double;color:black;background-color:#BBBBBB'>\n",
       "      <center>No</center></th><th style='border:1px solid black;border-bottom-style: double;color:black;background-color:#BBBBBB'>\n",
       "      <center>Disease1</center></th><th style='border:1px solid black;border-bottom-style: double;color:black;background-color:#BBBBBB'>\n",
       "      <center>Disease2</center></th><th style='border:1px solid black;border-bottom-style: double;color:black;background-color:#BBBBBB'>\n",
       "      <center>Disease3</center></th></tr>\n",
       "<tr><td style='color:black;background-color:#fb8264;text-align:right;'>0.0289</td><td style='color:black;background-color:#ed9064;text-align:right;'>0.1339</td><td style='color:black;background-color:#c2bb64;text-align:right;'>0.4762</td><td style='color:black;background-color:#d0ad64;text-align:right;'>0.3609</td></tr>\n",
       "</table>"
      ],
      "text/plain": [
       "(pyAgrum.Potential<double>@00000158D2B839D0) \n",
       "  Disease                              |\n",
       "No       |Disease1 |Disease2 |Disease3 |\n",
       "---------|---------|---------|---------|\n",
       " 0.0289  | 0.1339  | 0.4762  | 0.3609  |"
      ]
     },
     "execution_count": 141,
     "metadata": {},
     "output_type": "execute_result"
    }
   ],
   "source": [
    "ie.eraseAllEvidence()\n",
    "ie.setEvidence({'Symptom1': 1,\n",
    "               'Test': 1})\n",
    "# Апостериорная вероятность того, что у пациента есть заболевание\n",
    "ie.posterior('Disease')"
   ]
  },
  {
   "cell_type": "markdown",
   "id": "cad14180",
   "metadata": {},
   "source": [
    "если тест **положительный** и присутствует только С1, то наиболее вероятно З2, хотя вероятность З3 значительно выросло"
   ]
  },
  {
   "cell_type": "code",
   "execution_count": 142,
   "id": "306965a0",
   "metadata": {},
   "outputs": [
    {
     "data": {
      "text/html": [
       "<table style=\"border:1px solid black;\">\n",
       "<tr style='border:1px solid black;color:black;background-color:#808080'>\n",
       "      <th colspan='4'><center>Disease</center></th></tr>\n",
       "<tr><th style='border:1px solid black;border-bottom-style: double;color:black;background-color:#BBBBBB'>\n",
       "      <center>No</center></th><th style='border:1px solid black;border-bottom-style: double;color:black;background-color:#BBBBBB'>\n",
       "      <center>Disease1</center></th><th style='border:1px solid black;border-bottom-style: double;color:black;background-color:#BBBBBB'>\n",
       "      <center>Disease2</center></th><th style='border:1px solid black;border-bottom-style: double;color:black;background-color:#BBBBBB'>\n",
       "      <center>Disease3</center></th></tr>\n",
       "<tr><td style='color:black;background-color:#f88564;text-align:right;'>0.0485</td><td style='color:black;background-color:#eb9264;text-align:right;'>0.1496</td><td style='color:black;background-color:#98e564;text-align:right;'>0.7979</td><td style='color:black;background-color:#fe7f64;text-align:right;'>0.0041</td></tr>\n",
       "</table>"
      ],
      "text/plain": [
       "(pyAgrum.Potential<double>@00000158D14B9A50) \n",
       "  Disease                              |\n",
       "No       |Disease1 |Disease2 |Disease3 |\n",
       "---------|---------|---------|---------|\n",
       " 0.0485  | 0.1496  | 0.7979  | 0.0041  |"
      ]
     },
     "execution_count": 142,
     "metadata": {},
     "output_type": "execute_result"
    }
   ],
   "source": [
    "ie.eraseAllEvidence()\n",
    "ie.setEvidence({'Symptom2': 1,\n",
    "               'Test': 0})\n",
    "# Апостериорная вероятность того, что у пациента есть заболевание\n",
    "ie.posterior('Disease')"
   ]
  },
  {
   "cell_type": "markdown",
   "id": "d6eea813",
   "metadata": {},
   "source": [
    "если тест **отрицательный** и присутствует только С2, то наиболее вероятно З2"
   ]
  },
  {
   "cell_type": "code",
   "execution_count": 143,
   "id": "4695b15a",
   "metadata": {},
   "outputs": [
    {
     "data": {
      "text/html": [
       "<table style=\"border:1px solid black;\">\n",
       "<tr style='border:1px solid black;color:black;background-color:#808080'>\n",
       "      <th colspan='4'><center>Disease</center></th></tr>\n",
       "<tr><th style='border:1px solid black;border-bottom-style: double;color:black;background-color:#BBBBBB'>\n",
       "      <center>No</center></th><th style='border:1px solid black;border-bottom-style: double;color:black;background-color:#BBBBBB'>\n",
       "      <center>Disease1</center></th><th style='border:1px solid black;border-bottom-style: double;color:black;background-color:#BBBBBB'>\n",
       "      <center>Disease2</center></th><th style='border:1px solid black;border-bottom-style: double;color:black;background-color:#BBBBBB'>\n",
       "      <center>Disease3</center></th></tr>\n",
       "<tr><td style='color:black;background-color:#fb8264;text-align:right;'>0.0247</td><td style='color:black;background-color:#f58864;text-align:right;'>0.0762</td><td style='color:black;background-color:#cab364;text-align:right;'>0.4064</td><td style='color:black;background-color:#bfbe64;text-align:right;'>0.4927</td></tr>\n",
       "</table>"
      ],
      "text/plain": [
       "(pyAgrum.Potential<double>@00000158D14B9C50) \n",
       "  Disease                              |\n",
       "No       |Disease1 |Disease2 |Disease3 |\n",
       "---------|---------|---------|---------|\n",
       " 0.0247  | 0.0762  | 0.4064  | 0.4927  |"
      ]
     },
     "execution_count": 143,
     "metadata": {},
     "output_type": "execute_result"
    }
   ],
   "source": [
    "ie.eraseAllEvidence()\n",
    "ie.setEvidence({'Symptom2': 1,\n",
    "               'Test': 1})\n",
    "# Апостериорная вероятность того, что у пациента есть заболевание\n",
    "ie.posterior('Disease')"
   ]
  },
  {
   "cell_type": "markdown",
   "id": "997108b5",
   "metadata": {},
   "source": [
    "если тест **положительный** и присутствует только С2, то наиболее вероятно З3, хотя не сильно выше по сравнению с заболевание З2. "
   ]
  },
  {
   "cell_type": "markdown",
   "id": "5cead848",
   "metadata": {},
   "source": [
    "Т.е. можем сделать выводы, что результаты теста либо подтвердят нам заболевание З2, при любой симптоматике С1 и С2. Либо мы не сможем с увереностью сказать, какой из заболевание присутствует 33 или З3. Но чтобы окончательно сделать выводы, перейдем к следующему этапу."
   ]
  },
  {
   "cell_type": "markdown",
   "id": "58b9c501",
   "metadata": {},
   "source": [
    "# Определение ожидаемой полезности на основе байесовской сети"
   ]
  },
  {
   "cell_type": "markdown",
   "id": "d6c4ff0e",
   "metadata": {},
   "source": [
    "Про эффект в условиии задачи ничего не говорится. Эффективность при заболеваниях 31-33, если не проводить терапию варьируется между 50-80. Будем считать, что эффективность человека в % и спосбоность его работать. Возьмем среднюю оплату труда в 60 т.р. Тогда один день будет стоить 2000р. Составим таблицу учитывая затраты на терапию. \n",
    "\n",
    "\n",
    "\n",
    "Подобная скаляризация позволяет записать функцию полезности следующим образом (колонка \"Всего\" показывает суммарную стоимость с учетом стоимости терапии - 1200 руб. и 3400 руб.)\"\n",
    "\n",
    "\n",
    "| Болезнь | Терапия  |  Эффект  | Эффект (руб.) |    Всего (руб.) |\n",
    "|---------|----------|----------|---------------|-----------------|\n",
    "|  Нет    |  Нет     |   100    |   2000        |    2000         | \n",
    "|  Нет    |  Т1      |    90    |   1800        |     600        |\n",
    "|  Нет    |  Т2      |    75    |   1500        |   -1900        |\n",
    "|  З1     |  Нет     |    55    |   1100        |    1100        |\n",
    "|  З1     |  T1      |    80    |   1600        |     400        |\n",
    "|  З1     |  T2      |    50    |   1000        |   -2400        |\n",
    "|  З2     |  Нет     |    70    |   1400        |   1400        |\n",
    "|  З2     |  T1      |    80    |   1600        |   400        |\n",
    "|  З2     |  T2      |    75    |   1500        |   -1900        | \n",
    "|  З3     |  Нет     |    50    |   1000        |   1000        |\n",
    "|  З3     |  Т1      |    45    |   900         |   -300        |\n",
    "|  З3     |  Т2      |    85    |   1700        |   -1700        |\n"
   ]
  },
  {
   "cell_type": "code",
   "execution_count": 144,
   "id": "158dee6e",
   "metadata": {},
   "outputs": [
    {
     "data": {
      "text/html": [
       "<table style=\"border:1px solid black;\">\n",
       "<tr><th colspan='1'></th>\n",
       "      <th colspan='3' style='border:1px solid black;color:black;background-color:#808080;'><center>Treat</center>\n",
       "      </th></tr>\n",
       "<tr><th style='border:1px solid black;color:black;background-color:#808080'><center>Disease</center></th><th style='border:1px solid black;border-bottom-style: double;color:black;background-color:#BBBBBB'>\n",
       "      <center>No</center></th><th style='border:1px solid black;border-bottom-style: double;color:black;background-color:#BBBBBB'>\n",
       "      <center>T1</center></th><th style='border:1px solid black;border-bottom-style: double;color:black;background-color:#BBBBBB'>\n",
       "      <center>T2</center></th></tr>\n",
       "<tr><th style='border:1px solid black;color:black;background-color:#BBBBBB'><center>No</center></th><td style='text-align:right;'>2000.0000</td><td style='text-align:right;'>600.0000</td><td style='text-align:right;'>-1900.0000</td></tr>\n",
       "<tr><th style='border:1px solid black;color:black;background-color:#BBBBBB'><center>Disease1</center></th><td style='text-align:right;'>1100.0000</td><td style='text-align:right;'>400.0000</td><td style='text-align:right;'>-2400.0000</td></tr>\n",
       "<tr><th style='border:1px solid black;color:black;background-color:#BBBBBB'><center>Disease2</center></th><td style='text-align:right;'>1400.0000</td><td style='text-align:right;'>400.0000</td><td style='text-align:right;'>-1900.0000</td></tr>\n",
       "<tr><th style='border:1px solid black;color:black;background-color:#BBBBBB'><center>Disease3</center></th><td style='text-align:right;'>1000.0000</td><td style='text-align:right;'>-300.0000</td><td style='text-align:right;'>-1700.0000</td></tr>\n",
       "</table>"
      ],
      "text/plain": [
       "(pyAgrum.Potential<double>@00000158D2B83690) \n",
       "      ||  Treat                      |\n",
       "Diseas||No       |T1       |T2       |\n",
       "------||---------|---------|---------|\n",
       "No    || 2000.0000| 600.0000| -1900.0000|\n",
       "Diseas|| 1100.0000| 400.0000| -2400.0000|\n",
       "Diseas|| 1400.0000| 400.0000| -1900.0000|\n",
       "Diseas|| 1000.0000| -300.0000| -1700.0000|"
      ]
     },
     "execution_count": 144,
     "metadata": {},
     "output_type": "execute_result"
    }
   ],
   "source": [
    "# Потенциал определяется на наборе переменных. В нашем случае их две - \n",
    "# Болезнь (используем ее определение из сети) и Лечение.\n",
    "d = medicine_bn.variable(0)\n",
    "c = gum.LabelizedVariable('Treat', 'Treated?', 3)\n",
    "c.changeLabel(0, 'No')\n",
    "c.changeLabel(1, 'T1')\n",
    "c.changeLabel(2, 'T2')\n",
    "\n",
    "utility_potential = gum.Potential().add(c).add(d)\n",
    "utility_potential.fillWith([  2000,  600,  -1900, \n",
    "                             1100,   400,  -2400, \n",
    "                             1400,   400,  -1900,\n",
    "                             1000,  -300,  -1700])"
   ]
  },
  {
   "cell_type": "code",
   "execution_count": 145,
   "id": "dc274177",
   "metadata": {},
   "outputs": [],
   "source": [
    "def disease_proba_factor(ie, ev):\n",
    "    ie.eraseAllEvidence()\n",
    "    ie.setEvidence(ev)\n",
    "    return ie.posterior('Disease') #.toarray()"
   ]
  },
  {
   "cell_type": "code",
   "execution_count": 146,
   "id": "07ae8a5b",
   "metadata": {},
   "outputs": [
    {
     "data": {
      "text/html": [
       "<table style=\"border:1px solid black;\">\n",
       "<tr style='border:1px solid black;color:black;background-color:#808080'>\n",
       "      <th colspan='4'><center>Disease</center></th></tr>\n",
       "<tr><th style='border:1px solid black;border-bottom-style: double;color:black;background-color:#BBBBBB'>\n",
       "      <center>No</center></th><th style='border:1px solid black;border-bottom-style: double;color:black;background-color:#BBBBBB'>\n",
       "      <center>Disease1</center></th><th style='border:1px solid black;border-bottom-style: double;color:black;background-color:#BBBBBB'>\n",
       "      <center>Disease2</center></th><th style='border:1px solid black;border-bottom-style: double;color:black;background-color:#BBBBBB'>\n",
       "      <center>Disease3</center></th></tr>\n",
       "<tr><td style='color:black;background-color:#82fb64;text-align:right;'>0.9720</td><td style='color:black;background-color:#fe7f64;text-align:right;'>0.0050</td><td style='color:black;background-color:#fc8164;text-align:right;'>0.0200</td><td style='color:black;background-color:#fe7f64;text-align:right;'>0.0030</td></tr>\n",
       "</table>"
      ],
      "text/plain": [
       "(pyAgrum.Potential<double>@00000158D2B83D10) \n",
       "  Disease                              |\n",
       "No       |Disease1 |Disease2 |Disease3 |\n",
       "---------|---------|---------|---------|\n",
       " 0.9720  | 0.0050  | 0.0200  | 0.0030  |"
      ]
     },
     "execution_count": 146,
     "metadata": {},
     "output_type": "execute_result"
    }
   ],
   "source": [
    "disease_proba_factor(ie, {})"
   ]
  },
  {
   "cell_type": "code",
   "execution_count": 147,
   "id": "a9e3e64d",
   "metadata": {},
   "outputs": [
    {
     "data": {
      "text/html": [
       "<table style=\"border:1px solid black;\">\n",
       "<tr style='border:1px solid black;color:black;background-color:#808080'>\n",
       "      <th colspan='3'><center>Treat</center></th></tr>\n",
       "<tr><th style='border:1px solid black;border-bottom-style: double;color:black;background-color:#BBBBBB'>\n",
       "      <center>No</center></th><th style='border:1px solid black;border-bottom-style: double;color:black;background-color:#BBBBBB'>\n",
       "      <center>T1</center></th><th style='border:1px solid black;border-bottom-style: double;color:black;background-color:#BBBBBB'>\n",
       "      <center>T2</center></th></tr>\n",
       "<tr><td style='text-align:right;'>1980.5000</td><td style='text-align:right;'>592.3000</td><td style='text-align:right;'>-1901.9000</td></tr>\n",
       "</table>"
      ],
      "text/plain": [
       "(pyAgrum.Potential<double>@00000158D2B83C70) \n",
       "  Treat                      |\n",
       "No       |T1       |T2       |\n",
       "---------|---------|---------|\n",
       " 1980.5000| 592.3000| -1901.9000|"
      ]
     },
     "execution_count": 147,
     "metadata": {},
     "output_type": "execute_result"
    }
   ],
   "source": [
    "# Произведение потенциалов эквивалентно произведению всех значений, у которых\n",
    "# одинаковы значения соответствующих переменных (Disease),\n",
    "# а margSumOut() осуществляет маржинализацию переменной Disease (сложение\n",
    "# ячеек, соответствующих этой переменной для каждого сочетания других переменных)\n",
    "(utility_potential * disease_proba_factor(ie, {})).margSumOut(['Disease'])"
   ]
  },
  {
   "cell_type": "markdown",
   "id": "5b5e9aaf",
   "metadata": {},
   "source": [
    "По результатам можем сделать вывод о том, что оптимальным решением будет не лечить. А итоговая полезность будет составлять \n",
    "1980.5000"
   ]
  },
  {
   "cell_type": "code",
   "execution_count": 148,
   "id": "1d7141fd",
   "metadata": {},
   "outputs": [
    {
     "data": {
      "text/plain": [
       "(1980.4999999999998, ([{'Treat': 0}], 3883.3999999999996))"
      ]
     },
     "execution_count": 148,
     "metadata": {},
     "output_type": "execute_result"
    }
   ],
   "source": [
    "\n",
    "def max_u(potential):\n",
    "    min_val = potential.min()\n",
    "    if min_val < 0:\n",
    "        potential = potential - (min_val - 1)\n",
    "        return potential.max() + (min_val - 1)\n",
    "    return potential.max()\n",
    "\n",
    "def max_argmax_u(potential):\n",
    "    min_val = potential.min()\n",
    "    if min_val < 0:\n",
    "        potential = potential - (min_val - 1)\n",
    "        return potential.max() + (min_val - 1), potential.argmax()\n",
    "    return potential.max(), potential.argmax()\n",
    "\n",
    "def eu(ie, evidence, utility_potential):\n",
    "    tmp = (utility_potential * disease_proba_factor(ie, evidence)).margSumOut(['Disease'])\n",
    "    return max_argmax_u(tmp)\n",
    "\n",
    "eu(ie, {}, utility_potential)"
   ]
  },
  {
   "cell_type": "markdown",
   "id": "90f1296d",
   "metadata": {},
   "source": [
    "Оценим распределение вероятностей результата теста при имеющейся информации и возможные исходы (с учетом теста и без него):\n",
    "\n",
    "    1.1 Если мы не делаем тест и присутствует только симптом С2"
   ]
  },
  {
   "cell_type": "code",
   "execution_count": 149,
   "id": "fe5bf18a",
   "metadata": {},
   "outputs": [
    {
     "data": {
      "text/html": [
       "<table style=\"border:1px solid black;\">\n",
       "<tr style='border:1px solid black;color:black;background-color:#808080'>\n",
       "      <th colspan='3'><center>Treat</center></th></tr>\n",
       "<tr><th style='border:1px solid black;border-bottom-style: double;color:black;background-color:#BBBBBB'>\n",
       "      <center>No</center></th><th style='border:1px solid black;border-bottom-style: double;color:black;background-color:#BBBBBB'>\n",
       "      <center>T1</center></th><th style='border:1px solid black;border-bottom-style: double;color:black;background-color:#BBBBBB'>\n",
       "      <center>T2</center></th></tr>\n",
       "<tr><td style='text-align:right;'>1402.2248</td><td style='text-align:right;'>286.1239</td><td style='text-align:right;'>-1884.1299</td></tr>\n",
       "</table>"
      ],
      "text/plain": [
       "(pyAgrum.Potential<double>@00000158D2BCE690) \n",
       "  Treat                      |\n",
       "No       |T1       |T2       |\n",
       "---------|---------|---------|\n",
       " 1402.2248| 286.1239| -1884.1299|"
      ]
     },
     "execution_count": 149,
     "metadata": {},
     "output_type": "execute_result"
    }
   ],
   "source": [
    "(utility_potential * disease_proba_factor(ie, {'Symptom1': 0, 'Symptom2': 1})).margSumOut(['Disease'])"
   ]
  },
  {
   "cell_type": "markdown",
   "id": "ed21a8ee",
   "metadata": {},
   "source": [
    "Лечить не будем. Итоговая полезность 1402.2248"
   ]
  },
  {
   "cell_type": "markdown",
   "id": "c32f39dd",
   "metadata": {},
   "source": [
    "    1.2 Если мы не делаем тест и присутствует только симптом С1"
   ]
  },
  {
   "cell_type": "code",
   "execution_count": 150,
   "id": "963eb1a5",
   "metadata": {},
   "outputs": [
    {
     "data": {
      "text/html": [
       "<table style=\"border:1px solid black;\">\n",
       "<tr style='border:1px solid black;color:black;background-color:#808080'>\n",
       "      <th colspan='3'><center>Treat</center></th></tr>\n",
       "<tr><th style='border:1px solid black;border-bottom-style: double;color:black;background-color:#BBBBBB'>\n",
       "      <center>No</center></th><th style='border:1px solid black;border-bottom-style: double;color:black;background-color:#BBBBBB'>\n",
       "      <center>T1</center></th><th style='border:1px solid black;border-bottom-style: double;color:black;background-color:#BBBBBB'>\n",
       "      <center>T2</center></th></tr>\n",
       "<tr><td style='text-align:right;'>1387.6602</td><td style='text-align:right;'>397.4814</td><td style='text-align:right;'>-2033.9493</td></tr>\n",
       "</table>"
      ],
      "text/plain": [
       "(pyAgrum.Potential<double>@00000158D2BCE410) \n",
       "  Treat                      |\n",
       "No       |T1       |T2       |\n",
       "---------|---------|---------|\n",
       " 1387.6602| 397.4814| -2033.9493|"
      ]
     },
     "execution_count": 150,
     "metadata": {},
     "output_type": "execute_result"
    }
   ],
   "source": [
    "(utility_potential * disease_proba_factor(ie, {'Symptom1': 1, 'Symptom2': 0})).margSumOut(['Disease'])"
   ]
  },
  {
   "cell_type": "markdown",
   "id": "8d3cd6e5",
   "metadata": {},
   "source": [
    "Лечить не будем. Итоговая полезность 1387.6602"
   ]
  },
  {
   "cell_type": "markdown",
   "id": "a68ee200",
   "metadata": {},
   "source": [
    "    1.3. Если мы не делаемм тест и присутствуют оба симптома"
   ]
  },
  {
   "cell_type": "code",
   "execution_count": 151,
   "id": "65f9d0ab",
   "metadata": {},
   "outputs": [
    {
     "data": {
      "text/html": [
       "<table style=\"border:1px solid black;\">\n",
       "<tr style='border:1px solid black;color:black;background-color:#808080'>\n",
       "      <th colspan='3'><center>Treat</center></th></tr>\n",
       "<tr><th style='border:1px solid black;border-bottom-style: double;color:black;background-color:#BBBBBB'>\n",
       "      <center>No</center></th><th style='border:1px solid black;border-bottom-style: double;color:black;background-color:#BBBBBB'>\n",
       "      <center>T1</center></th><th style='border:1px solid black;border-bottom-style: double;color:black;background-color:#BBBBBB'>\n",
       "      <center>T2</center></th></tr>\n",
       "<tr><td style='text-align:right;'>1322.7939</td><td style='text-align:right;'>349.7152</td><td style='text-align:right;'>-1966.4632</td></tr>\n",
       "</table>"
      ],
      "text/plain": [
       "(pyAgrum.Potential<double>@00000158D2BCE390) \n",
       "  Treat                      |\n",
       "No       |T1       |T2       |\n",
       "---------|---------|---------|\n",
       " 1322.7939| 349.7152| -1966.4632|"
      ]
     },
     "execution_count": 151,
     "metadata": {},
     "output_type": "execute_result"
    }
   ],
   "source": [
    "(utility_potential * disease_proba_factor(ie, {'Symptom1': 1, 'Symptom2': 1})).margSumOut(['Disease'])"
   ]
  },
  {
   "cell_type": "markdown",
   "id": "027ee074",
   "metadata": {},
   "source": [
    "Лечить не будем. Итоговая полезность 1322.7939"
   ]
  },
  {
   "cell_type": "code",
   "execution_count": 152,
   "id": "183b923a",
   "metadata": {},
   "outputs": [],
   "source": [
    "def test_proba_factor(ie, ev):\n",
    "    \"\"\"Вычисление вероятности показаний теста в зависимости от имеющейся информации.\"\"\"\n",
    "    ie.eraseAllEvidence()\n",
    "    ie.setEvidence(ev)\n",
    "    return ie.posterior('Test') #.toarray()"
   ]
  },
  {
   "cell_type": "markdown",
   "id": "614bab41",
   "metadata": {},
   "source": [
    "    2.1. Если мы делаем тест и присутствует только симптом С2"
   ]
  },
  {
   "cell_type": "code",
   "execution_count": 153,
   "id": "f8e5a3b0",
   "metadata": {},
   "outputs": [
    {
     "data": {
      "text/html": [
       "<table style=\"border:1px solid black;\">\n",
       "<tr style='border:1px solid black;color:black;background-color:#808080'>\n",
       "      <th colspan='3'><center>Treat</center></th></tr>\n",
       "<tr><th style='border:1px solid black;border-bottom-style: double;color:black;background-color:#BBBBBB'>\n",
       "      <center>No</center></th><th style='border:1px solid black;border-bottom-style: double;color:black;background-color:#BBBBBB'>\n",
       "      <center>T1</center></th><th style='border:1px solid black;border-bottom-style: double;color:black;background-color:#BBBBBB'>\n",
       "      <center>T2</center></th></tr>\n",
       "<tr><td style='text-align:right;'>460.9642</td><td style='text-align:right;'>-765.4422</td><td style='text-align:right;'>-2473.6859</td></tr>\n",
       "</table>"
      ],
      "text/plain": [
       "(pyAgrum.Potential<double>@00000158D2BCDEF0) \n",
       "  Treat                      |\n",
       "No       |T1       |T2       |\n",
       "---------|---------|---------|\n",
       " 460.9642| -765.4422| -2473.6859|"
      ]
     },
     "execution_count": 153,
     "metadata": {},
     "output_type": "execute_result"
    }
   ],
   "source": [
    "# Если тест делаем, то возможны два исхода (не забываем учесть стоимость теста - 700 руб.): \n",
    "# 1. Тест окажется положительным\n",
    "test_positive01 = (utility_potential * disease_proba_factor(ie, {'Symptom1': 0, 'Symptom2': 1, 'Test': 1})).margSumOut(['Disease']) - 700 \n",
    "test_positive01"
   ]
  },
  {
   "cell_type": "markdown",
   "id": "49189107",
   "metadata": {},
   "source": [
    "Лечить не будем. Итоговая полезность 460.9642"
   ]
  },
  {
   "cell_type": "markdown",
   "id": "ad786299",
   "metadata": {},
   "source": [
    "    2.2 Если мы делаем тест и присутствует только симптом С1\n"
   ]
  },
  {
   "cell_type": "code",
   "execution_count": 154,
   "id": "ebd3cdb6",
   "metadata": {},
   "outputs": [
    {
     "data": {
      "text/html": [
       "<table style=\"border:1px solid black;\">\n",
       "<tr style='border:1px solid black;color:black;background-color:#808080'>\n",
       "      <th colspan='3'><center>Treat</center></th></tr>\n",
       "<tr><th style='border:1px solid black;border-bottom-style: double;color:black;background-color:#BBBBBB'>\n",
       "      <center>No</center></th><th style='border:1px solid black;border-bottom-style: double;color:black;background-color:#BBBBBB'>\n",
       "      <center>T1</center></th><th style='border:1px solid black;border-bottom-style: double;color:black;background-color:#BBBBBB'>\n",
       "      <center>T2</center></th></tr>\n",
       "<tr><td style='text-align:right;'>589.5450</td><td style='text-align:right;'>-479.0483</td><td style='text-align:right;'>-2649.4281</td></tr>\n",
       "</table>"
      ],
      "text/plain": [
       "(pyAgrum.Potential<double>@00000158D2BCE630) \n",
       "  Treat                      |\n",
       "No       |T1       |T2       |\n",
       "---------|---------|---------|\n",
       " 589.5450| -479.0483| -2649.4281|"
      ]
     },
     "execution_count": 154,
     "metadata": {},
     "output_type": "execute_result"
    }
   ],
   "source": [
    "test_positive10 = (utility_potential * disease_proba_factor(ie, {'Symptom1': 1, 'Symptom2': 0, 'Test': 1})).margSumOut(['Disease']) - 700 \n",
    "test_positive10"
   ]
  },
  {
   "cell_type": "markdown",
   "id": "b758dd2c",
   "metadata": {},
   "source": [
    "Лечить не будем. Итоговая полезность 589.5450"
   ]
  },
  {
   "cell_type": "markdown",
   "id": "e3d06c20",
   "metadata": {},
   "source": [
    "\n",
    "    2.3 Если мы делаем тест и присутствует и симпотом С1 и С2"
   ]
  },
  {
   "cell_type": "code",
   "execution_count": 155,
   "id": "e77b06aa",
   "metadata": {},
   "outputs": [
    {
     "data": {
      "text/html": [
       "<table style=\"border:1px solid black;\">\n",
       "<tr style='border:1px solid black;color:black;background-color:#808080'>\n",
       "      <th colspan='3'><center>Treat</center></th></tr>\n",
       "<tr><th style='border:1px solid black;border-bottom-style: double;color:black;background-color:#BBBBBB'>\n",
       "      <center>No</center></th><th style='border:1px solid black;border-bottom-style: double;color:black;background-color:#BBBBBB'>\n",
       "      <center>T1</center></th><th style='border:1px solid black;border-bottom-style: double;color:black;background-color:#BBBBBB'>\n",
       "      <center>T2</center></th></tr>\n",
       "<tr><td style='text-align:right;'>513.9192</td><td style='text-align:right;'>-569.4263</td><td style='text-align:right;'>-2576.5882</td></tr>\n",
       "</table>"
      ],
      "text/plain": [
       "(pyAgrum.Potential<double>@00000158D2BCE4F0) \n",
       "  Treat                      |\n",
       "No       |T1       |T2       |\n",
       "---------|---------|---------|\n",
       " 513.9192| -569.4263| -2576.5882|"
      ]
     },
     "execution_count": 155,
     "metadata": {},
     "output_type": "execute_result"
    }
   ],
   "source": [
    "test_positive11 = (utility_potential * disease_proba_factor(ie, {'Symptom1': 1, 'Symptom2': 1, 'Test': 1})).margSumOut(['Disease']) - 700 \n",
    "test_positive11"
   ]
  },
  {
   "cell_type": "markdown",
   "id": "c9ed213d",
   "metadata": {},
   "source": [
    "Лечить не будем. Итоговая полезность 513.9192"
   ]
  },
  {
   "cell_type": "markdown",
   "id": "806622ea",
   "metadata": {},
   "source": [
    "Но так же тест может оказаться и отрицательным"
   ]
  },
  {
   "cell_type": "code",
   "execution_count": 156,
   "id": "93cbc6f6",
   "metadata": {},
   "outputs": [
    {
     "data": {
      "text/html": [
       "<table style=\"border:1px solid black;\">\n",
       "<tr style='border:1px solid black;color:black;background-color:#808080'>\n",
       "      <th colspan='3'><center>Treat</center></th></tr>\n",
       "<tr><th style='border:1px solid black;border-bottom-style: double;color:black;background-color:#BBBBBB'>\n",
       "      <center>No</center></th><th style='border:1px solid black;border-bottom-style: double;color:black;background-color:#BBBBBB'>\n",
       "      <center>T1</center></th><th style='border:1px solid black;border-bottom-style: double;color:black;background-color:#BBBBBB'>\n",
       "      <center>T2</center></th></tr>\n",
       "<tr><td style='text-align:right;'>805.5540</td><td style='text-align:right;'>-263.3042</td><td style='text-align:right;'>-2631.4318</td></tr>\n",
       "</table>"
      ],
      "text/plain": [
       "(pyAgrum.Potential<double>@00000158D2BCE1D0) \n",
       "  Treat                      |\n",
       "No       |T1       |T2       |\n",
       "---------|---------|---------|\n",
       " 805.5540| -263.3042| -2631.4318|"
      ]
     },
     "execution_count": 156,
     "metadata": {},
     "output_type": "execute_result"
    }
   ],
   "source": [
    "test_negative01 = (utility_potential * disease_proba_factor(ie, {'Symptom1': 0, 'Symptom2': 1, 'Test': 0})).margSumOut(['Disease']) - 700\n",
    "test_negative01"
   ]
  },
  {
   "cell_type": "markdown",
   "id": "def64f21",
   "metadata": {},
   "source": [
    "Лечить не будем. Итоговая полезность 805.5540"
   ]
  },
  {
   "cell_type": "code",
   "execution_count": 166,
   "id": "82d4f6e6",
   "metadata": {},
   "outputs": [
    {
     "data": {
      "text/html": [
       "<table style=\"border:1px solid black;\">\n",
       "<tr style='border:1px solid black;color:black;background-color:#808080'>\n",
       "      <th colspan='3'><center>Treat</center></th></tr>\n",
       "<tr><th style='border:1px solid black;border-bottom-style: double;color:black;background-color:#BBBBBB'>\n",
       "      <center>No</center></th><th style='border:1px solid black;border-bottom-style: double;color:black;background-color:#BBBBBB'>\n",
       "      <center>T1</center></th><th style='border:1px solid black;border-bottom-style: double;color:black;background-color:#BBBBBB'>\n",
       "      <center>T2</center></th></tr>\n",
       "<tr><td style='text-align:right;'>706.4411</td><td style='text-align:right;'>-268.7279</td><td style='text-align:right;'>-2750.1281</td></tr>\n",
       "</table>"
      ],
      "text/plain": [
       "(pyAgrum.Potential<double>@00000158D2BCE550) \n",
       "  Treat                      |\n",
       "No       |T1       |T2       |\n",
       "---------|---------|---------|\n",
       " 706.4411| -268.7279| -2750.1281|"
      ]
     },
     "execution_count": 166,
     "metadata": {},
     "output_type": "execute_result"
    }
   ],
   "source": [
    "test_negative10 = (utility_potential * disease_proba_factor(ie, {'Symptom1': 1, 'Symptom2': 0, 'Test': 0})).margSumOut(['Disease']) - 700\n",
    "test_negative10"
   ]
  },
  {
   "cell_type": "markdown",
   "id": "a6f56fa9",
   "metadata": {},
   "source": [
    "Лечить не будем. Итоговая полезность 706.4411"
   ]
  },
  {
   "cell_type": "code",
   "execution_count": 167,
   "id": "6568d923",
   "metadata": {},
   "outputs": [
    {
     "data": {
      "text/html": [
       "<table style=\"border:1px solid black;\">\n",
       "<tr style='border:1px solid black;color:black;background-color:#808080'>\n",
       "      <th colspan='3'><center>Treat</center></th></tr>\n",
       "<tr><th style='border:1px solid black;border-bottom-style: double;color:black;background-color:#BBBBBB'>\n",
       "      <center>No</center></th><th style='border:1px solid black;border-bottom-style: double;color:black;background-color:#BBBBBB'>\n",
       "      <center>T1</center></th><th style='border:1px solid black;border-bottom-style: double;color:black;background-color:#BBBBBB'>\n",
       "      <center>T2</center></th></tr>\n",
       "<tr><td style='text-align:right;'>646.8674</td><td style='text-align:right;'>-301.8300</td><td style='text-align:right;'>-2686.3356</td></tr>\n",
       "</table>"
      ],
      "text/plain": [
       "(pyAgrum.Potential<double>@00000158D2BCE3F0) \n",
       "  Treat                      |\n",
       "No       |T1       |T2       |\n",
       "---------|---------|---------|\n",
       " 646.8674| -301.8300| -2686.3356|"
      ]
     },
     "execution_count": 167,
     "metadata": {},
     "output_type": "execute_result"
    }
   ],
   "source": [
    "test_negative11 = (utility_potential * disease_proba_factor(ie, {'Symptom1': 1, 'Symptom2': 1, 'Test': 0})).margSumOut(['Disease']) - 700\n",
    "test_negative11"
   ]
  },
  {
   "cell_type": "markdown",
   "id": "10287d5e",
   "metadata": {},
   "source": [
    "Лечить не будем. Итоговая полезность 646.8674"
   ]
  },
  {
   "cell_type": "code",
   "execution_count": 168,
   "id": "ec1da9f1",
   "metadata": {},
   "outputs": [
    {
     "data": {
      "text/html": [
       "<table style=\"border:1px solid black;\">\n",
       "<tr style='border:1px solid black;color:black;background-color:#808080'>\n",
       "      <th colspan='2'><center>Test</center></th></tr>\n",
       "<tr><th style='border:1px solid black;border-bottom-style: double;color:black;background-color:#BBBBBB'>\n",
       "      <center>0</center></th><th style='border:1px solid black;border-bottom-style: double;color:black;background-color:#BBBBBB'>\n",
       "      <center>1</center></th></tr>\n",
       "<tr><td style='color:black;background-color:#a5d864;text-align:right;'>0.7001</td><td style='color:black;background-color:#d8a564;text-align:right;'>0.2999</td></tr>\n",
       "</table>"
      ],
      "text/plain": [
       "(pyAgrum.Potential<double>@00000158D2BCE370) \n",
       "  Test             |\n",
       "0        |1        |\n",
       "---------|---------|\n",
       " 0.7001  | 0.2999  |"
      ]
     },
     "execution_count": 168,
     "metadata": {},
     "output_type": "execute_result"
    }
   ],
   "source": [
    "tmp01 = test_proba_factor(ie, {'Symptom1': 0, 'Symptom2': 1})\n",
    "tmp01"
   ]
  },
  {
   "cell_type": "markdown",
   "id": "5724666f",
   "metadata": {},
   "source": [
    "## Таким образом, итоговая ожидаемая полезность при симптоме С2"
   ]
  },
  {
   "cell_type": "code",
   "execution_count": 169,
   "id": "c668d807",
   "metadata": {},
   "outputs": [
    {
     "data": {
      "text/plain": [
       "702.2247818208621"
      ]
     },
     "execution_count": 169,
     "metadata": {},
     "output_type": "execute_result"
    }
   ],
   "source": [
    "tmp01[0]*max_u(test_negative01) + tmp01[1]*max_u(test_positive01)"
   ]
  },
  {
   "cell_type": "code",
   "execution_count": 170,
   "id": "516c6949",
   "metadata": {},
   "outputs": [
    {
     "data": {
      "text/html": [
       "<table style=\"border:1px solid black;\">\n",
       "<tr style='border:1px solid black;color:black;background-color:#808080'>\n",
       "      <th colspan='2'><center>Test</center></th></tr>\n",
       "<tr><th style='border:1px solid black;border-bottom-style: double;color:black;background-color:#BBBBBB'>\n",
       "      <center>0</center></th><th style='border:1px solid black;border-bottom-style: double;color:black;background-color:#BBBBBB'>\n",
       "      <center>1</center></th></tr>\n",
       "<tr><td style='color:black;background-color:#93ea64;text-align:right;'>0.8393</td><td style='color:black;background-color:#ea9364;text-align:right;'>0.1607</td></tr>\n",
       "</table>"
      ],
      "text/plain": [
       "(pyAgrum.Potential<double>@00000158D2BCDF10) \n",
       "  Test             |\n",
       "0        |1        |\n",
       "---------|---------|\n",
       " 0.8393  | 0.1607  |"
      ]
     },
     "execution_count": 170,
     "metadata": {},
     "output_type": "execute_result"
    }
   ],
   "source": [
    "tmp10 = test_proba_factor(ie, {'Symptom1': 1, 'Symptom2': 0})\n",
    "tmp10"
   ]
  },
  {
   "cell_type": "markdown",
   "id": "9a1e2988",
   "metadata": {},
   "source": [
    "## Таким образом, итоговая ожидаемая полезность при симптоме C1"
   ]
  },
  {
   "cell_type": "code",
   "execution_count": 171,
   "id": "e35fec50",
   "metadata": {},
   "outputs": [
    {
     "data": {
      "text/plain": [
       "687.6602049935035"
      ]
     },
     "execution_count": 171,
     "metadata": {},
     "output_type": "execute_result"
    }
   ],
   "source": [
    "tmp10[0]*max_u(test_negative10) + tmp10[1]*max_u(test_positive10)"
   ]
  },
  {
   "cell_type": "code",
   "execution_count": 172,
   "id": "60b8024b",
   "metadata": {},
   "outputs": [
    {
     "data": {
      "text/html": [
       "<table style=\"border:1px solid black;\">\n",
       "<tr style='border:1px solid black;color:black;background-color:#808080'>\n",
       "      <th colspan='2'><center>Test</center></th></tr>\n",
       "<tr><th style='border:1px solid black;border-bottom-style: double;color:black;background-color:#BBBBBB'>\n",
       "      <center>0</center></th><th style='border:1px solid black;border-bottom-style: double;color:black;background-color:#BBBBBB'>\n",
       "      <center>1</center></th></tr>\n",
       "<tr><td style='color:black;background-color:#96e764;text-align:right;'>0.8189</td><td style='color:black;background-color:#e79664;text-align:right;'>0.1811</td></tr>\n",
       "</table>"
      ],
      "text/plain": [
       "(pyAgrum.Potential<double>@00000158D2BCE5D0) \n",
       "  Test             |\n",
       "0        |1        |\n",
       "---------|---------|\n",
       " 0.8189  | 0.1811  |"
      ]
     },
     "execution_count": 172,
     "metadata": {},
     "output_type": "execute_result"
    }
   ],
   "source": [
    "tmp11 = test_proba_factor(ie, {'Symptom1': 1, 'Symptom2': 1})\n",
    "tmp11"
   ]
  },
  {
   "cell_type": "markdown",
   "id": "2720eb61",
   "metadata": {},
   "source": [
    "## Таким образом, итоговая ожидаемая полезность при симптомах С1 и С2"
   ]
  },
  {
   "cell_type": "code",
   "execution_count": 173,
   "id": "cd482bd5",
   "metadata": {},
   "outputs": [
    {
     "data": {
      "text/plain": [
       "622.7939068456618"
      ]
     },
     "execution_count": 173,
     "metadata": {},
     "output_type": "execute_result"
    }
   ],
   "source": [
    "tmp11[0]*max_u(test_negative11) + tmp11[1]*max_u(test_positive11)"
   ]
  },
  {
   "cell_type": "markdown",
   "id": "5d15559f",
   "metadata": {},
   "source": [
    "Ожидаемая полезность с учетом знания результатов теста оказалась ниже во всех случая симпоматики С1 и С2, чем без учета знания результатов теста. Следовательно, тест в такой ситуации проводить нецелесообразно."
   ]
  },
  {
   "cell_type": "markdown",
   "id": "72641d8d",
   "metadata": {},
   "source": [
    "# 2.c Определите «разумную» цену для проведения диагностической процедуры в данном случае."
   ]
  },
  {
   "cell_type": "markdown",
   "id": "2a551edb",
   "metadata": {},
   "source": [
    "Сделаем итоговую таблицу:\n",
    "\n",
    "|Симпотомы|Полезность БЕЗ теста|Полезность С тестом|Разница |\n",
    "|---------|--------------------|-------------------|--------|\n",
    "| C1      |   1387.660         |   687.660         |700     |\n",
    "| C2      |   1402.225         |   702.225         |700     |\n",
    "| C1 и С2 |   1322.794         |   622.794         |700     |\n",
    "    "
   ]
  },
  {
   "cell_type": "markdown",
   "id": "bdc932cc",
   "metadata": {},
   "source": [
    "По данным результатм нельзя выставить разумную цену, так как разница между тестированием и без составляет 700"
   ]
  },
  {
   "cell_type": "code",
   "execution_count": null,
   "id": "4f84e68c",
   "metadata": {},
   "outputs": [],
   "source": []
  }
 ],
 "metadata": {
  "kernelspec": {
   "display_name": "Python 3",
   "language": "python",
   "name": "python3"
  },
  "language_info": {
   "codemirror_mode": {
    "name": "ipython",
    "version": 3
   },
   "file_extension": ".py",
   "mimetype": "text/x-python",
   "name": "python",
   "nbconvert_exporter": "python",
   "pygments_lexer": "ipython3",
   "version": "3.8.8"
  }
 },
 "nbformat": 4,
 "nbformat_minor": 5
}
